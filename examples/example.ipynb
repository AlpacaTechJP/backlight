{
  "nbformat": 4,
  "nbformat_minor": 0,
  "metadata": {
    "colab": {
      "name": "example.ipynb",
      "version": "0.3.2",
      "provenance": []
    },
    "kernelspec": {
      "display_name": "Python 3",
      "language": "python",
      "name": "python3"
    }
  },
  "cells": [
    {
      "metadata": {
        "id": "YcWgkTpb629f",
        "colab_type": "code",
        "outputId": "f5e95565-a730-4a42-e7da-48de5b131248",
        "colab": {
          "base_uri": "https://localhost:8080/",
          "height": 877
        }
      },
      "cell_type": "code",
      "source": [
        "!pip install git+https://github.com/AlpacaDB/backlight"
      ],
      "execution_count": 0,
      "outputs": [
        {
          "output_type": "stream",
          "text": [
            "Collecting git+https://github.com/AlpacaDB/backlight\n",
            "  Cloning https://github.com/AlpacaDB/backlight to /tmp/pip-req-build-wn41f4fv\n",
            "Collecting pandas==0.21.0 (from backlight==0.1)\n",
            "\u001b[?25l  Downloading https://files.pythonhosted.org/packages/9b/b7/d829de9794567443fbe230a666910d2c5ea3c28a6554f1246ab004583b82/pandas-0.21.0-cp36-cp36m-manylinux1_x86_64.whl (26.2MB)\n",
            "\u001b[K    100% |████████████████████████████████| 26.2MB 1.1MB/s \n",
            "\u001b[?25hCollecting numpy>=1.15.0 (from backlight==0.1)\n",
            "\u001b[?25l  Downloading https://files.pythonhosted.org/packages/ff/7f/9d804d2348471c67a7d8b5f84f9bc59fd1cefa148986f2b74552f8573555/numpy-1.15.4-cp36-cp36m-manylinux1_x86_64.whl (13.9MB)\n",
            "\u001b[K    100% |████████████████████████████████| 13.9MB 3.0MB/s \n",
            "\u001b[?25hCollecting matplotlib>=2.2.2 (from backlight==0.1)\n",
            "\u001b[?25l  Downloading https://files.pythonhosted.org/packages/71/07/16d781df15be30df4acfd536c479268f1208b2dfbc91e9ca5d92c9caf673/matplotlib-3.0.2-cp36-cp36m-manylinux1_x86_64.whl (12.9MB)\n",
            "\u001b[K    100% |████████████████████████████████| 12.9MB 3.4MB/s \n",
            "\u001b[?25hCollecting boto3>=1.9.36 (from backlight==0.1)\n",
            "\u001b[?25l  Downloading https://files.pythonhosted.org/packages/bf/a1/2fedb80d3eefe024580aaff3e81106058b6f99698295edfca51199162bd5/boto3-1.9.57-py2.py3-none-any.whl (128kB)\n",
            "\u001b[K    100% |████████████████████████████████| 133kB 31.4MB/s \n",
            "\u001b[?25hRequirement already satisfied: python-dateutil>=2 in /usr/local/lib/python3.6/dist-packages (from pandas==0.21.0->backlight==0.1) (2.5.3)\n",
            "Requirement already satisfied: pytz>=2011k in /usr/local/lib/python3.6/dist-packages (from pandas==0.21.0->backlight==0.1) (2018.7)\n",
            "Requirement already satisfied: pyparsing!=2.0.4,!=2.1.2,!=2.1.6,>=2.0.1 in /usr/local/lib/python3.6/dist-packages (from matplotlib>=2.2.2->backlight==0.1) (2.3.0)\n",
            "Collecting kiwisolver>=1.0.1 (from matplotlib>=2.2.2->backlight==0.1)\n",
            "\u001b[?25l  Downloading https://files.pythonhosted.org/packages/69/a7/88719d132b18300b4369fbffa741841cfd36d1e637e1990f27929945b538/kiwisolver-1.0.1-cp36-cp36m-manylinux1_x86_64.whl (949kB)\n",
            "\u001b[K    100% |████████████████████████████████| 952kB 19.1MB/s \n",
            "\u001b[?25hRequirement already satisfied: cycler>=0.10 in /usr/local/lib/python3.6/dist-packages (from matplotlib>=2.2.2->backlight==0.1) (0.10.0)\n",
            "Collecting botocore<1.13.0,>=1.12.57 (from boto3>=1.9.36->backlight==0.1)\n",
            "\u001b[?25l  Downloading https://files.pythonhosted.org/packages/f1/37/eb8f5a76e1cb16ecabb7c92f7504c37030c8b727d550021b2bb34dc2a082/botocore-1.12.57-py2.py3-none-any.whl (5.1MB)\n",
            "\u001b[K    100% |████████████████████████████████| 5.1MB 7.5MB/s \n",
            "\u001b[?25hCollecting jmespath<1.0.0,>=0.7.1 (from boto3>=1.9.36->backlight==0.1)\n",
            "  Downloading https://files.pythonhosted.org/packages/b7/31/05c8d001f7f87f0f07289a5fc0fc3832e9a57f2dbd4d3b0fee70e0d51365/jmespath-0.9.3-py2.py3-none-any.whl\n",
            "Collecting s3transfer<0.2.0,>=0.1.10 (from boto3>=1.9.36->backlight==0.1)\n",
            "\u001b[?25l  Downloading https://files.pythonhosted.org/packages/d7/14/2a0004d487464d120c9fb85313a75cd3d71a7506955be458eebfe19a6b1d/s3transfer-0.1.13-py2.py3-none-any.whl (59kB)\n",
            "\u001b[K    100% |████████████████████████████████| 61kB 25.2MB/s \n",
            "\u001b[?25hRequirement already satisfied: six>=1.5 in /usr/local/lib/python3.6/dist-packages (from python-dateutil>=2->pandas==0.21.0->backlight==0.1) (1.11.0)\n",
            "Requirement already satisfied: setuptools in /usr/local/lib/python3.6/dist-packages (from kiwisolver>=1.0.1->matplotlib>=2.2.2->backlight==0.1) (40.6.2)\n",
            "Collecting docutils>=0.10 (from botocore<1.13.0,>=1.12.57->boto3>=1.9.36->backlight==0.1)\n",
            "\u001b[?25l  Downloading https://files.pythonhosted.org/packages/36/fa/08e9e6e0e3cbd1d362c3bbee8d01d0aedb2155c4ac112b19ef3cae8eed8d/docutils-0.14-py3-none-any.whl (543kB)\n",
            "\u001b[K    100% |████████████████████████████████| 552kB 26.2MB/s \n",
            "\u001b[?25hRequirement already satisfied: urllib3<1.25,>=1.20; python_version >= \"3.4\" in /usr/local/lib/python3.6/dist-packages (from botocore<1.13.0,>=1.12.57->boto3>=1.9.36->backlight==0.1) (1.22)\n",
            "Building wheels for collected packages: backlight\n",
            "  Running setup.py bdist_wheel for backlight ... \u001b[?25l-\b \b\\\b \bdone\n",
            "\u001b[?25h  Stored in directory: /tmp/pip-ephem-wheel-cache-22o86rum/wheels/95/c2/91/cf62b52737082fc3505586af0619df68c8f3d678bff197bdef\n",
            "Successfully built backlight\n",
            "Installing collected packages: numpy, pandas, kiwisolver, matplotlib, docutils, jmespath, botocore, s3transfer, boto3, backlight\n",
            "  Found existing installation: numpy 1.14.6\n",
            "    Uninstalling numpy-1.14.6:\n",
            "      Successfully uninstalled numpy-1.14.6\n",
            "  Found existing installation: pandas 0.22.0\n",
            "    Uninstalling pandas-0.22.0:\n",
            "      Successfully uninstalled pandas-0.22.0\n",
            "  Found existing installation: matplotlib 2.1.2\n",
            "    Uninstalling matplotlib-2.1.2:\n",
            "      Successfully uninstalled matplotlib-2.1.2\n",
            "Successfully installed backlight-0.1 boto3-1.9.57 botocore-1.12.57 docutils-0.14 jmespath-0.9.3 kiwisolver-1.0.1 matplotlib-3.0.2 numpy-1.15.4 pandas-0.21.0 s3transfer-0.1.13\n"
          ],
          "name": "stdout"
        }
      ]
    },
    {
      "metadata": {
        "id": "i6bib12j6xp7",
        "colab_type": "code",
        "colab": {}
      },
      "cell_type": "code",
      "source": [
        "import os\n",
        "import numpy as np\n",
        "import pandas as pd\n",
        "import backlight"
      ],
      "execution_count": 0,
      "outputs": []
    },
    {
      "metadata": {
        "id": "ZF43p4g96xqB",
        "colab_type": "text"
      },
      "cell_type": "markdown",
      "source": [
        "# Generate example dummy data"
      ]
    },
    {
      "metadata": {
        "id": "ZGqKO9L56xqC",
        "colab_type": "code",
        "colab": {}
      },
      "cell_type": "code",
      "source": [
        "np.random.seed(0)\n",
        "\n",
        "# market data\n",
        "if not os.path.exists(\"example_market.csv\"):\n",
        "    idx = pd.date_range(\"2018-04-01 00:00:00\", \"2018-06-30 23:59:59\", freq=\"10S\")\n",
        "    ask = np.cumsum(np.random.rand(len(idx)) - 0.5) + 100.0\n",
        "    bid = ask - 0.02\n",
        "    pd.DataFrame(\n",
        "        index=idx,\n",
        "        data=np.array([ask, bid]).T,\n",
        "        columns=[\"ask\", \"bid\"]\n",
        "    ).abs().to_csv(\"example_market.csv\")\n",
        "\n",
        "# signal data\n",
        "if not os.path.exists(\"example_signal.csv\"):\n",
        "    sig = np.random.rand(3, len(idx)).T\n",
        "    n = np.sum(sig, axis=1)\n",
        "    pd.DataFrame(\n",
        "        index=idx,\n",
        "        data=sig / n.reshape(-1, 1),\n",
        "        columns=[\"down\", \"neutral\", \"up\"]\n",
        "    ).to_csv(\"example_signal.csv\")"
      ],
      "execution_count": 0,
      "outputs": []
    },
    {
      "metadata": {
        "id": "NRgwvXRn6xqD",
        "colab_type": "text"
      },
      "cell_type": "markdown",
      "source": [
        "# Configuration"
      ]
    },
    {
      "metadata": {
        "id": "n64RoXWY6xqE",
        "colab_type": "code",
        "colab": {}
      },
      "cell_type": "code",
      "source": [
        "model_id = \"\"\n",
        "start_dt = \"2018-06-03 00:00:00+0000\"\n",
        "end_dt = \"2018-06-04 00:00:00+0000\"\n",
        "sig_url = \"file:///{}/example_signal.csv\".format(os.getcwd())\n",
        "mkt_url = \"file:///{}/example_market.csv\".format(os.getcwd())"
      ],
      "execution_count": 0,
      "outputs": []
    },
    {
      "metadata": {
        "id": "IRcj63TV6xqG",
        "colab_type": "text"
      },
      "cell_type": "markdown",
      "source": [
        "# loading the signal"
      ]
    },
    {
      "metadata": {
        "scrolled": false,
        "id": "w2C7NALO6xqG",
        "colab_type": "code",
        "colab": {}
      },
      "cell_type": "code",
      "source": [
        "from backlight import signal\n",
        "\n",
        "SYMBOL = \"USDJPY\"\n",
        "sig = signal.load_signal(SYMBOL, sig_url, start_dt, end_dt)"
      ],
      "execution_count": 0,
      "outputs": []
    },
    {
      "metadata": {
        "id": "JXAPItmA6xqI",
        "colab_type": "code",
        "outputId": "d72b8d53-8203-4022-daa0-fe389f1b329f",
        "colab": {
          "base_uri": "https://localhost:8080/",
          "height": 195
        }
      },
      "cell_type": "code",
      "source": [
        "sig.tail()"
      ],
      "execution_count": 0,
      "outputs": [
        {
          "output_type": "execute_result",
          "data": {
            "text/html": [
              "<div>\n",
              "<style scoped>\n",
              "    .dataframe tbody tr th:only-of-type {\n",
              "        vertical-align: middle;\n",
              "    }\n",
              "\n",
              "    .dataframe tbody tr th {\n",
              "        vertical-align: top;\n",
              "    }\n",
              "\n",
              "    .dataframe thead th {\n",
              "        text-align: right;\n",
              "    }\n",
              "</style>\n",
              "<table border=\"1\" class=\"dataframe\">\n",
              "  <thead>\n",
              "    <tr style=\"text-align: right;\">\n",
              "      <th></th>\n",
              "      <th>down</th>\n",
              "      <th>neutral</th>\n",
              "      <th>up</th>\n",
              "      <th>pred</th>\n",
              "    </tr>\n",
              "  </thead>\n",
              "  <tbody>\n",
              "    <tr>\n",
              "      <th>2018-06-03 23:59:20</th>\n",
              "      <td>0.474687</td>\n",
              "      <td>0.394481</td>\n",
              "      <td>0.130832</td>\n",
              "      <td>-1.0</td>\n",
              "    </tr>\n",
              "    <tr>\n",
              "      <th>2018-06-03 23:59:30</th>\n",
              "      <td>0.145743</td>\n",
              "      <td>0.038175</td>\n",
              "      <td>0.816082</td>\n",
              "      <td>1.0</td>\n",
              "    </tr>\n",
              "    <tr>\n",
              "      <th>2018-06-03 23:59:40</th>\n",
              "      <td>0.605723</td>\n",
              "      <td>0.318978</td>\n",
              "      <td>0.075299</td>\n",
              "      <td>-1.0</td>\n",
              "    </tr>\n",
              "    <tr>\n",
              "      <th>2018-06-03 23:59:50</th>\n",
              "      <td>0.431310</td>\n",
              "      <td>0.004492</td>\n",
              "      <td>0.564198</td>\n",
              "      <td>1.0</td>\n",
              "    </tr>\n",
              "    <tr>\n",
              "      <th>2018-06-04 00:00:00</th>\n",
              "      <td>0.361087</td>\n",
              "      <td>0.372248</td>\n",
              "      <td>0.266664</td>\n",
              "      <td>0.0</td>\n",
              "    </tr>\n",
              "  </tbody>\n",
              "</table>\n",
              "</div>"
            ],
            "text/plain": [
              "                         down   neutral        up  pred\n",
              "2018-06-03 23:59:20  0.474687  0.394481  0.130832  -1.0\n",
              "2018-06-03 23:59:30  0.145743  0.038175  0.816082   1.0\n",
              "2018-06-03 23:59:40  0.605723  0.318978  0.075299  -1.0\n",
              "2018-06-03 23:59:50  0.431310  0.004492  0.564198   1.0\n",
              "2018-06-04 00:00:00  0.361087  0.372248  0.266664   0.0"
            ]
          },
          "metadata": {
            "tags": []
          },
          "execution_count": 6
        }
      ]
    },
    {
      "metadata": {
        "id": "UkrZI_4F6xqN",
        "colab_type": "code",
        "outputId": "bcc0762e-e3c6-42ad-97e3-3f08fb297ecc",
        "colab": {
          "base_uri": "https://localhost:8080/",
          "height": 34
        }
      },
      "cell_type": "code",
      "source": [
        "sig.symbol"
      ],
      "execution_count": 0,
      "outputs": [
        {
          "output_type": "execute_result",
          "data": {
            "text/plain": [
              "'USDJPY'"
            ]
          },
          "metadata": {
            "tags": []
          },
          "execution_count": 7
        }
      ]
    },
    {
      "metadata": {
        "id": "VlWyyxd36xqQ",
        "colab_type": "text"
      },
      "cell_type": "markdown",
      "source": [
        "# loading the marketdata"
      ]
    },
    {
      "metadata": {
        "id": "114Fi1Xr6xqR",
        "colab_type": "code",
        "colab": {}
      },
      "cell_type": "code",
      "source": [
        "from backlight import datasource\n",
        "\n",
        "mkt = datasource.load_marketdata(\n",
        "    sig.symbol,\n",
        "    sig.start_dt,\n",
        "    sig.end_dt,\n",
        "    mkt_url,\n",
        ")"
      ],
      "execution_count": 0,
      "outputs": []
    },
    {
      "metadata": {
        "id": "DB_xvXvy6xqT",
        "colab_type": "code",
        "outputId": "f70c2bde-7a94-4bab-f534-0b2a5317abb7",
        "colab": {
          "base_uri": "https://localhost:8080/",
          "height": 195
        }
      },
      "cell_type": "code",
      "source": [
        "mkt.tail()"
      ],
      "execution_count": 0,
      "outputs": [
        {
          "output_type": "execute_result",
          "data": {
            "text/html": [
              "<div>\n",
              "<style scoped>\n",
              "    .dataframe tbody tr th:only-of-type {\n",
              "        vertical-align: middle;\n",
              "    }\n",
              "\n",
              "    .dataframe tbody tr th {\n",
              "        vertical-align: top;\n",
              "    }\n",
              "\n",
              "    .dataframe thead th {\n",
              "        text-align: right;\n",
              "    }\n",
              "</style>\n",
              "<table border=\"1\" class=\"dataframe\">\n",
              "  <thead>\n",
              "    <tr style=\"text-align: right;\">\n",
              "      <th></th>\n",
              "      <th>ask</th>\n",
              "      <th>bid</th>\n",
              "    </tr>\n",
              "  </thead>\n",
              "  <tbody>\n",
              "    <tr>\n",
              "      <th>2018-06-03 23:59:20</th>\n",
              "      <td>17.921237</td>\n",
              "      <td>17.901237</td>\n",
              "    </tr>\n",
              "    <tr>\n",
              "      <th>2018-06-03 23:59:30</th>\n",
              "      <td>17.544376</td>\n",
              "      <td>17.524376</td>\n",
              "    </tr>\n",
              "    <tr>\n",
              "      <th>2018-06-03 23:59:40</th>\n",
              "      <td>17.266061</td>\n",
              "      <td>17.246061</td>\n",
              "    </tr>\n",
              "    <tr>\n",
              "      <th>2018-06-03 23:59:50</th>\n",
              "      <td>16.958572</td>\n",
              "      <td>16.938572</td>\n",
              "    </tr>\n",
              "    <tr>\n",
              "      <th>2018-06-04 00:00:00</th>\n",
              "      <td>17.089109</td>\n",
              "      <td>17.069109</td>\n",
              "    </tr>\n",
              "  </tbody>\n",
              "</table>\n",
              "</div>"
            ],
            "text/plain": [
              "                           ask        bid\n",
              "2018-06-03 23:59:20  17.921237  17.901237\n",
              "2018-06-03 23:59:30  17.544376  17.524376\n",
              "2018-06-03 23:59:40  17.266061  17.246061\n",
              "2018-06-03 23:59:50  16.958572  16.938572\n",
              "2018-06-04 00:00:00  17.089109  17.069109"
            ]
          },
          "metadata": {
            "tags": []
          },
          "execution_count": 9
        }
      ]
    },
    {
      "metadata": {
        "id": "LhcoLx4J6xqW",
        "colab_type": "text"
      },
      "cell_type": "markdown",
      "source": [
        "# generating labels"
      ]
    },
    {
      "metadata": {
        "id": "siz3mz4I6xqY",
        "colab_type": "text"
      },
      "cell_type": "markdown",
      "source": [
        "## Fixed Neutral"
      ]
    },
    {
      "metadata": {
        "id": "sYRePzR86xqZ",
        "colab_type": "code",
        "colab": {}
      },
      "cell_type": "code",
      "source": [
        "from backlight import labelizer\n",
        "from backlight.labelizer.ternary.fixed_neutral import FixedNeutralLabelizer\n",
        "\n",
        "\n",
        "lbl_fix = labelizer.generate_labels(\n",
        "    mkt,\n",
        "    FixedNeutralLabelizer(\n",
        "        lookahead=\"3Min\",\n",
        "        neutral_atol=0.075,\n",
        "        neutral_rtol=0.00,\n",
        "    ))"
      ],
      "execution_count": 0,
      "outputs": []
    },
    {
      "metadata": {
        "id": "9RSl3y8m6xqb",
        "colab_type": "code",
        "outputId": "c6db77dd-0319-493c-b4df-d954050ec767",
        "colab": {
          "base_uri": "https://localhost:8080/",
          "height": 195
        }
      },
      "cell_type": "code",
      "source": [
        "lbl_fix.head()"
      ],
      "execution_count": 0,
      "outputs": [
        {
          "output_type": "execute_result",
          "data": {
            "text/html": [
              "<div>\n",
              "<style scoped>\n",
              "    .dataframe tbody tr th:only-of-type {\n",
              "        vertical-align: middle;\n",
              "    }\n",
              "\n",
              "    .dataframe tbody tr th {\n",
              "        vertical-align: top;\n",
              "    }\n",
              "\n",
              "    .dataframe thead th {\n",
              "        text-align: right;\n",
              "    }\n",
              "</style>\n",
              "<table border=\"1\" class=\"dataframe\">\n",
              "  <thead>\n",
              "    <tr style=\"text-align: right;\">\n",
              "      <th></th>\n",
              "      <th>mid</th>\n",
              "      <th>label_diff</th>\n",
              "      <th>label</th>\n",
              "    </tr>\n",
              "  </thead>\n",
              "  <tbody>\n",
              "    <tr>\n",
              "      <th>2018-06-03 00:00:00</th>\n",
              "      <td>80.257283</td>\n",
              "      <td>-0.854094</td>\n",
              "      <td>-1.0</td>\n",
              "    </tr>\n",
              "    <tr>\n",
              "      <th>2018-06-03 00:00:10</th>\n",
              "      <td>80.010294</td>\n",
              "      <td>-0.446213</td>\n",
              "      <td>-1.0</td>\n",
              "    </tr>\n",
              "    <tr>\n",
              "      <th>2018-06-03 00:00:20</th>\n",
              "      <td>79.701448</td>\n",
              "      <td>0.156435</td>\n",
              "      <td>1.0</td>\n",
              "    </tr>\n",
              "    <tr>\n",
              "      <th>2018-06-03 00:00:30</th>\n",
              "      <td>79.822766</td>\n",
              "      <td>-0.402531</td>\n",
              "      <td>-1.0</td>\n",
              "    </tr>\n",
              "    <tr>\n",
              "      <th>2018-06-03 00:00:40</th>\n",
              "      <td>79.959499</td>\n",
              "      <td>-0.609441</td>\n",
              "      <td>-1.0</td>\n",
              "    </tr>\n",
              "  </tbody>\n",
              "</table>\n",
              "</div>"
            ],
            "text/plain": [
              "                           mid  label_diff  label\n",
              "2018-06-03 00:00:00  80.257283   -0.854094   -1.0\n",
              "2018-06-03 00:00:10  80.010294   -0.446213   -1.0\n",
              "2018-06-03 00:00:20  79.701448    0.156435    1.0\n",
              "2018-06-03 00:00:30  79.822766   -0.402531   -1.0\n",
              "2018-06-03 00:00:40  79.959499   -0.609441   -1.0"
            ]
          },
          "metadata": {
            "tags": []
          },
          "execution_count": 11
        }
      ]
    },
    {
      "metadata": {
        "id": "kjeJr_Ba6xqe",
        "colab_type": "code",
        "outputId": "a1fefcda-79b1-4d9e-e879-6934b08b1d33",
        "colab": {
          "base_uri": "https://localhost:8080/",
          "height": 34
        }
      },
      "cell_type": "code",
      "source": [
        "lbl_fix.label_type"
      ],
      "execution_count": 0,
      "outputs": [
        {
          "output_type": "execute_result",
          "data": {
            "text/plain": [
              "'ternary'"
            ]
          },
          "metadata": {
            "tags": []
          },
          "execution_count": 12
        }
      ]
    },
    {
      "metadata": {
        "id": "I8TB5wV66xqh",
        "colab_type": "code",
        "outputId": "efbed88d-d1b1-425a-a42e-7f4febc989c6",
        "colab": {
          "base_uri": "https://localhost:8080/",
          "height": 101
        }
      },
      "cell_type": "code",
      "source": [
        "# (-1.0, 0.0, 1.0) : (Down, Neutral, Up)\n",
        "lbl_fix.groupby(\"label\").label.count() / len(lbl_fix)"
      ],
      "execution_count": 0,
      "outputs": [
        {
          "output_type": "execute_result",
          "data": {
            "text/plain": [
              "label\n",
              "-1.0    0.527485\n",
              " 0.0    0.044208\n",
              " 1.0    0.426224\n",
              "Name: label, dtype: float64"
            ]
          },
          "metadata": {
            "tags": []
          },
          "execution_count": 13
        }
      ]
    },
    {
      "metadata": {
        "id": "vJE99Kll6xqk",
        "colab_type": "text"
      },
      "cell_type": "markdown",
      "source": [
        "## Dynamic Neutral"
      ]
    },
    {
      "metadata": {
        "id": "4o0UHqit6xqm",
        "colab_type": "code",
        "colab": {}
      },
      "cell_type": "code",
      "source": [
        "from backlight.labelizer.ternary.dynamic_neutral import DynamicNeutralLabelizer\n",
        "\n",
        "lbl_dyn = labelizer.generate_labels(\n",
        "    mkt,\n",
        "    DynamicNeutralLabelizer(\n",
        "        lookahead=\"3Min\",\n",
        "        neutral_ratio=0.38,\n",
        "        neutral_window=\"1H\",\n",
        "        neutral_hard_limit=0.0,\n",
        "    ))"
      ],
      "execution_count": 0,
      "outputs": []
    },
    {
      "metadata": {
        "id": "JBP9flqR6xqp",
        "colab_type": "code",
        "outputId": "b3376ee6-4638-4468-9da3-884ec4a67b64",
        "colab": {
          "base_uri": "https://localhost:8080/",
          "height": 195
        }
      },
      "cell_type": "code",
      "source": [
        "lbl_dyn.head()"
      ],
      "execution_count": 0,
      "outputs": [
        {
          "output_type": "execute_result",
          "data": {
            "text/html": [
              "<div>\n",
              "<style scoped>\n",
              "    .dataframe tbody tr th:only-of-type {\n",
              "        vertical-align: middle;\n",
              "    }\n",
              "\n",
              "    .dataframe tbody tr th {\n",
              "        vertical-align: top;\n",
              "    }\n",
              "\n",
              "    .dataframe thead th {\n",
              "        text-align: right;\n",
              "    }\n",
              "</style>\n",
              "<table border=\"1\" class=\"dataframe\">\n",
              "  <thead>\n",
              "    <tr style=\"text-align: right;\">\n",
              "      <th></th>\n",
              "      <th>label_diff</th>\n",
              "      <th>label</th>\n",
              "      <th>neutral_range</th>\n",
              "    </tr>\n",
              "  </thead>\n",
              "  <tbody>\n",
              "    <tr>\n",
              "      <th>2018-06-03 00:00:00</th>\n",
              "      <td>-0.854094</td>\n",
              "      <td>-1.0</td>\n",
              "      <td>0.854094</td>\n",
              "    </tr>\n",
              "    <tr>\n",
              "      <th>2018-06-03 00:00:10</th>\n",
              "      <td>-0.446213</td>\n",
              "      <td>0.0</td>\n",
              "      <td>0.601208</td>\n",
              "    </tr>\n",
              "    <tr>\n",
              "      <th>2018-06-03 00:00:20</th>\n",
              "      <td>0.156435</td>\n",
              "      <td>0.0</td>\n",
              "      <td>0.376667</td>\n",
              "    </tr>\n",
              "    <tr>\n",
              "      <th>2018-06-03 00:00:30</th>\n",
              "      <td>-0.402531</td>\n",
              "      <td>0.0</td>\n",
              "      <td>0.408647</td>\n",
              "    </tr>\n",
              "    <tr>\n",
              "      <th>2018-06-03 00:00:40</th>\n",
              "      <td>-0.609441</td>\n",
              "      <td>-1.0</td>\n",
              "      <td>0.425246</td>\n",
              "    </tr>\n",
              "  </tbody>\n",
              "</table>\n",
              "</div>"
            ],
            "text/plain": [
              "                     label_diff  label  neutral_range\n",
              "2018-06-03 00:00:00   -0.854094   -1.0       0.854094\n",
              "2018-06-03 00:00:10   -0.446213    0.0       0.601208\n",
              "2018-06-03 00:00:20    0.156435    0.0       0.376667\n",
              "2018-06-03 00:00:30   -0.402531    0.0       0.408647\n",
              "2018-06-03 00:00:40   -0.609441   -1.0       0.425246"
            ]
          },
          "metadata": {
            "tags": []
          },
          "execution_count": 15
        }
      ]
    },
    {
      "metadata": {
        "id": "OeKgZ2JA6xqt",
        "colab_type": "code",
        "outputId": "9a028718-b0fd-4e40-f6b8-8e51da39205b",
        "colab": {
          "base_uri": "https://localhost:8080/",
          "height": 34
        }
      },
      "cell_type": "code",
      "source": [
        "lbl_dyn.label_type"
      ],
      "execution_count": 0,
      "outputs": [
        {
          "output_type": "execute_result",
          "data": {
            "text/plain": [
              "'ternary'"
            ]
          },
          "metadata": {
            "tags": []
          },
          "execution_count": 16
        }
      ]
    },
    {
      "metadata": {
        "id": "qGVtfRk16xqv",
        "colab_type": "code",
        "outputId": "10721977-9c17-43b8-85f0-400994dd34b8",
        "colab": {
          "base_uri": "https://localhost:8080/",
          "height": 101
        }
      },
      "cell_type": "code",
      "source": [
        "# (-1.0, 0.0, 1.0) : (Down, Neutral, Up)\n",
        "lbl_dyn.groupby(\"label\").label.count() / len(lbl_dyn)"
      ],
      "execution_count": 0,
      "outputs": [
        {
          "output_type": "execute_result",
          "data": {
            "text/plain": [
              "label\n",
              "-1.0    0.347876\n",
              " 0.0    0.379933\n",
              " 1.0    0.270108\n",
              "Name: label, dtype: float64"
            ]
          },
          "metadata": {
            "tags": []
          },
          "execution_count": 17
        }
      ]
    },
    {
      "metadata": {
        "id": "giOcORdC6xqy",
        "colab_type": "text"
      },
      "cell_type": "markdown",
      "source": [
        "# simulate trading strategy"
      ]
    },
    {
      "metadata": {
        "scrolled": true,
        "id": "aEBlNlSK6xqz",
        "colab_type": "code",
        "colab": {}
      },
      "cell_type": "code",
      "source": [
        "from backlight import strategies\n",
        "trades = strategies.simple_entry(mkt, sig, max_holding_time=pd.Timedelta('30min'))"
      ],
      "execution_count": 0,
      "outputs": []
    },
    {
      "metadata": {
        "id": "6zWn4uti6xq0",
        "colab_type": "code",
        "colab": {}
      },
      "cell_type": "code",
      "source": [
        "from backlight.trades import flatten\n",
        "\n",
        "trade = flatten(trades)"
      ],
      "execution_count": 0,
      "outputs": []
    },
    {
      "metadata": {
        "id": "6bVMVFcVwKWI",
        "colab_type": "code",
        "outputId": "b8e15ae0-16be-4bd1-9181-d5f36cf28c71",
        "colab": {
          "base_uri": "https://localhost:8080/",
          "height": 118
        }
      },
      "cell_type": "code",
      "source": [
        "trade.tail()"
      ],
      "execution_count": 0,
      "outputs": [
        {
          "output_type": "execute_result",
          "data": {
            "text/plain": [
              "2018-06-03 23:59:20    -2.0\n",
              "2018-06-03 23:59:30     0.0\n",
              "2018-06-03 23:59:40    -2.0\n",
              "2018-06-03 23:59:50     0.0\n",
              "2018-06-04 00:00:00    11.0\n",
              "dtype: float64"
            ]
          },
          "metadata": {
            "tags": []
          },
          "execution_count": 20
        }
      ]
    },
    {
      "metadata": {
        "id": "L7IvCI3r6xq3",
        "colab_type": "text"
      },
      "cell_type": "markdown",
      "source": [
        "# simulate and evaluate positions"
      ]
    },
    {
      "metadata": {
        "id": "XODGSv6y6xq3",
        "colab_type": "code",
        "colab": {}
      },
      "cell_type": "code",
      "source": [
        "from backlight import positions\n",
        "positions = positions.calc_positions(trades, mkt)"
      ],
      "execution_count": 0,
      "outputs": []
    },
    {
      "metadata": {
        "scrolled": true,
        "id": "eER3knrW6xq5",
        "colab_type": "code",
        "outputId": "7b2901f0-9627-4df0-b9ce-1c410756d26a",
        "colab": {
          "base_uri": "https://localhost:8080/",
          "height": 195
        }
      },
      "cell_type": "code",
      "source": [
        "positions.head()"
      ],
      "execution_count": 0,
      "outputs": [
        {
          "output_type": "execute_result",
          "data": {
            "text/html": [
              "<div>\n",
              "<style scoped>\n",
              "    .dataframe tbody tr th:only-of-type {\n",
              "        vertical-align: middle;\n",
              "    }\n",
              "\n",
              "    .dataframe tbody tr th {\n",
              "        vertical-align: top;\n",
              "    }\n",
              "\n",
              "    .dataframe thead th {\n",
              "        text-align: right;\n",
              "    }\n",
              "</style>\n",
              "<table border=\"1\" class=\"dataframe\">\n",
              "  <thead>\n",
              "    <tr style=\"text-align: right;\">\n",
              "      <th></th>\n",
              "      <th>amount</th>\n",
              "      <th>price</th>\n",
              "    </tr>\n",
              "  </thead>\n",
              "  <tbody>\n",
              "    <tr>\n",
              "      <th>2018-06-03 00:00:00</th>\n",
              "      <td>0.0</td>\n",
              "      <td>80.257283</td>\n",
              "    </tr>\n",
              "    <tr>\n",
              "      <th>2018-06-03 00:00:10</th>\n",
              "      <td>0.0</td>\n",
              "      <td>80.010294</td>\n",
              "    </tr>\n",
              "    <tr>\n",
              "      <th>2018-06-03 00:00:20</th>\n",
              "      <td>1.0</td>\n",
              "      <td>79.701448</td>\n",
              "    </tr>\n",
              "    <tr>\n",
              "      <th>2018-06-03 00:00:30</th>\n",
              "      <td>1.0</td>\n",
              "      <td>79.822766</td>\n",
              "    </tr>\n",
              "    <tr>\n",
              "      <th>2018-06-03 00:00:40</th>\n",
              "      <td>2.0</td>\n",
              "      <td>79.959499</td>\n",
              "    </tr>\n",
              "  </tbody>\n",
              "</table>\n",
              "</div>"
            ],
            "text/plain": [
              "                     amount      price\n",
              "2018-06-03 00:00:00     0.0  80.257283\n",
              "2018-06-03 00:00:10     0.0  80.010294\n",
              "2018-06-03 00:00:20     1.0  79.701448\n",
              "2018-06-03 00:00:30     1.0  79.822766\n",
              "2018-06-03 00:00:40     2.0  79.959499"
            ]
          },
          "metadata": {
            "tags": []
          },
          "execution_count": 22
        }
      ]
    },
    {
      "metadata": {
        "id": "8K8woTUF6xq8",
        "colab_type": "text"
      },
      "cell_type": "markdown",
      "source": [
        "# Calculate Metrics - based on the raw signals"
      ]
    },
    {
      "metadata": {
        "id": "wWIs7IqX6xq8",
        "colab_type": "code",
        "outputId": "66ba7b28-4384-47cb-bbdc-a425f8dc0ba6",
        "colab": {
          "base_uri": "https://localhost:8080/",
          "height": 181
        }
      },
      "cell_type": "code",
      "source": [
        "from backlight import metrics\n",
        "m = metrics.calc_metrics(sig, lbl_fix)\n",
        "m"
      ],
      "execution_count": 0,
      "outputs": [
        {
          "output_type": "stream",
          "text": [
            "/usr/local/lib/python3.6/dist-packages/backlight/metrics/ternary.py:36: SettingWithCopyWarning: \n",
            "A value is trying to be set on a copy of a slice from a DataFrame\n",
            "\n",
            "See the caveats in the documentation: http://pandas.pydata.org/pandas-docs/stable/indexing.html#indexing-view-versus-copy\n",
            "  pl.loc[sig.pred == TD.D.value] *= -1\n"
          ],
          "name": "stderr"
        },
        {
          "output_type": "execute_result",
          "data": {
            "text/html": [
              "<div>\n",
              "<style scoped>\n",
              "    .dataframe tbody tr th:only-of-type {\n",
              "        vertical-align: middle;\n",
              "    }\n",
              "\n",
              "    .dataframe tbody tr th {\n",
              "        vertical-align: top;\n",
              "    }\n",
              "\n",
              "    .dataframe thead th {\n",
              "        text-align: right;\n",
              "    }\n",
              "</style>\n",
              "<table border=\"1\" class=\"dataframe\">\n",
              "  <thead>\n",
              "    <tr style=\"text-align: right;\">\n",
              "      <th></th>\n",
              "      <th>cnt_uu</th>\n",
              "      <th>cnt_un</th>\n",
              "      <th>cnt_ud</th>\n",
              "      <th>cnt_nu</th>\n",
              "      <th>cnt_nn</th>\n",
              "      <th>cnt_nd</th>\n",
              "      <th>cnt_du</th>\n",
              "      <th>cnt_dn</th>\n",
              "      <th>cnt_dd</th>\n",
              "      <th>cnt_total</th>\n",
              "      <th>hit_ratio</th>\n",
              "      <th>hedge_ratio</th>\n",
              "      <th>neutral_ratio</th>\n",
              "      <th>coverage</th>\n",
              "      <th>avg_pl</th>\n",
              "      <th>total_pl</th>\n",
              "    </tr>\n",
              "  </thead>\n",
              "  <tbody>\n",
              "    <tr>\n",
              "      <th>metrics</th>\n",
              "      <td>1228.0</td>\n",
              "      <td>123.0</td>\n",
              "      <td>1533.0</td>\n",
              "      <td>1191.0</td>\n",
              "      <td>116.0</td>\n",
              "      <td>1498.0</td>\n",
              "      <td>1264.0</td>\n",
              "      <td>143.0</td>\n",
              "      <td>1527.0</td>\n",
              "      <td>8641.0</td>\n",
              "      <td>0.496218</td>\n",
              "      <td>0.519251</td>\n",
              "      <td>0.324615</td>\n",
              "      <td>0.673302</td>\n",
              "      <td>-0.020959</td>\n",
              "      <td>-121.93917</td>\n",
              "    </tr>\n",
              "  </tbody>\n",
              "</table>\n",
              "</div>"
            ],
            "text/plain": [
              "         cnt_uu  cnt_un  cnt_ud  cnt_nu  cnt_nn  cnt_nd  cnt_du  cnt_dn  \\\n",
              "metrics  1228.0   123.0  1533.0  1191.0   116.0  1498.0  1264.0   143.0   \n",
              "\n",
              "         cnt_dd  cnt_total  hit_ratio  hedge_ratio  neutral_ratio  coverage  \\\n",
              "metrics  1527.0     8641.0   0.496218     0.519251       0.324615  0.673302   \n",
              "\n",
              "           avg_pl   total_pl  \n",
              "metrics -0.020959 -121.93917  "
            ]
          },
          "metadata": {
            "tags": []
          },
          "execution_count": 23
        }
      ]
    },
    {
      "metadata": {
        "id": "XkTJvI8p6xq_",
        "colab_type": "code",
        "outputId": "da434934-4b58-4076-dfd7-24d81291aee0",
        "colab": {
          "base_uri": "https://localhost:8080/",
          "height": 181
        }
      },
      "cell_type": "code",
      "source": [
        "from backlight import metrics\n",
        "m = metrics.calc_metrics(sig, lbl_dyn)\n",
        "m"
      ],
      "execution_count": 0,
      "outputs": [
        {
          "output_type": "stream",
          "text": [
            "/usr/local/lib/python3.6/dist-packages/backlight/metrics/ternary.py:36: SettingWithCopyWarning: \n",
            "A value is trying to be set on a copy of a slice from a DataFrame\n",
            "\n",
            "See the caveats in the documentation: http://pandas.pydata.org/pandas-docs/stable/indexing.html#indexing-view-versus-copy\n",
            "  pl.loc[sig.pred == TD.D.value] *= -1\n"
          ],
          "name": "stderr"
        },
        {
          "output_type": "execute_result",
          "data": {
            "text/html": [
              "<div>\n",
              "<style scoped>\n",
              "    .dataframe tbody tr th:only-of-type {\n",
              "        vertical-align: middle;\n",
              "    }\n",
              "\n",
              "    .dataframe tbody tr th {\n",
              "        vertical-align: top;\n",
              "    }\n",
              "\n",
              "    .dataframe thead th {\n",
              "        text-align: right;\n",
              "    }\n",
              "</style>\n",
              "<table border=\"1\" class=\"dataframe\">\n",
              "  <thead>\n",
              "    <tr style=\"text-align: right;\">\n",
              "      <th></th>\n",
              "      <th>cnt_uu</th>\n",
              "      <th>cnt_un</th>\n",
              "      <th>cnt_ud</th>\n",
              "      <th>cnt_nu</th>\n",
              "      <th>cnt_nn</th>\n",
              "      <th>cnt_nd</th>\n",
              "      <th>cnt_du</th>\n",
              "      <th>cnt_dn</th>\n",
              "      <th>cnt_dd</th>\n",
              "      <th>cnt_total</th>\n",
              "      <th>hit_ratio</th>\n",
              "      <th>hedge_ratio</th>\n",
              "      <th>neutral_ratio</th>\n",
              "      <th>coverage</th>\n",
              "      <th>avg_pl</th>\n",
              "      <th>total_pl</th>\n",
              "    </tr>\n",
              "  </thead>\n",
              "  <tbody>\n",
              "    <tr>\n",
              "      <th>metrics</th>\n",
              "      <td>772.0</td>\n",
              "      <td>1089.0</td>\n",
              "      <td>1023.0</td>\n",
              "      <td>780.0</td>\n",
              "      <td>1028.0</td>\n",
              "      <td>997.0</td>\n",
              "      <td>782.0</td>\n",
              "      <td>1166.0</td>\n",
              "      <td>986.0</td>\n",
              "      <td>8641.0</td>\n",
              "      <td>0.493404</td>\n",
              "      <td>0.689756</td>\n",
              "      <td>0.324615</td>\n",
              "      <td>0.673302</td>\n",
              "      <td>-0.020959</td>\n",
              "      <td>-121.93917</td>\n",
              "    </tr>\n",
              "  </tbody>\n",
              "</table>\n",
              "</div>"
            ],
            "text/plain": [
              "         cnt_uu  cnt_un  cnt_ud  cnt_nu  cnt_nn  cnt_nd  cnt_du  cnt_dn  \\\n",
              "metrics   772.0  1089.0  1023.0   780.0  1028.0   997.0   782.0  1166.0   \n",
              "\n",
              "         cnt_dd  cnt_total  hit_ratio  hedge_ratio  neutral_ratio  coverage  \\\n",
              "metrics   986.0     8641.0   0.493404     0.689756       0.324615  0.673302   \n",
              "\n",
              "           avg_pl   total_pl  \n",
              "metrics -0.020959 -121.93917  "
            ]
          },
          "metadata": {
            "tags": []
          },
          "execution_count": 24
        }
      ]
    },
    {
      "metadata": {
        "id": "eIOZeRm1zZou",
        "colab_type": "text"
      },
      "cell_type": "markdown",
      "source": [
        "# Calculate Performance"
      ]
    },
    {
      "metadata": {
        "id": "ewlQekGuziD1",
        "colab_type": "code",
        "outputId": "c441e989-1511-474d-b9cc-a424445a37e4",
        "colab": {
          "base_uri": "https://localhost:8080/",
          "height": 77
        }
      },
      "cell_type": "code",
      "source": [
        "from backlight import metrics\n",
        "m = metrics.calc_position_performance(positions)\n",
        "m"
      ],
      "execution_count": 0,
      "outputs": [
        {
          "output_type": "execute_result",
          "data": {
            "text/html": [
              "<div>\n",
              "<style scoped>\n",
              "    .dataframe tbody tr th:only-of-type {\n",
              "        vertical-align: middle;\n",
              "    }\n",
              "\n",
              "    .dataframe tbody tr th {\n",
              "        vertical-align: top;\n",
              "    }\n",
              "\n",
              "    .dataframe thead th {\n",
              "        text-align: right;\n",
              "    }\n",
              "</style>\n",
              "<table border=\"1\" class=\"dataframe\">\n",
              "  <thead>\n",
              "    <tr style=\"text-align: right;\">\n",
              "      <th></th>\n",
              "      <th>avg_pl_per_amount</th>\n",
              "      <th>total_pl</th>\n",
              "      <th>total_win_pl</th>\n",
              "      <th>total_lose_pl</th>\n",
              "      <th>cnt_amount</th>\n",
              "    </tr>\n",
              "  </thead>\n",
              "  <tbody>\n",
              "    <tr>\n",
              "      <th>metrics</th>\n",
              "      <td>-0.077857</td>\n",
              "      <td>-594.363405</td>\n",
              "      <td>9441.977049</td>\n",
              "      <td>-10036.340454</td>\n",
              "      <td>7634.0</td>\n",
              "    </tr>\n",
              "  </tbody>\n",
              "</table>\n",
              "</div>"
            ],
            "text/plain": [
              "         avg_pl_per_amount    total_pl  total_win_pl  total_lose_pl  \\\n",
              "metrics          -0.077857 -594.363405   9441.977049  -10036.340454   \n",
              "\n",
              "         cnt_amount  \n",
              "metrics      7634.0  "
            ]
          },
          "metadata": {
            "tags": []
          },
          "execution_count": 28
        }
      ]
    },
    {
      "metadata": {
        "id": "UzrrQeEN6xrC",
        "colab_type": "code",
        "outputId": "ea4d17d5-7359-467e-eed8-8e7373b39772",
        "colab": {
          "base_uri": "https://localhost:8080/",
          "height": 97
        }
      },
      "cell_type": "code",
      "source": [
        "from backlight import metrics\n",
        "m = metrics.calc_trade_performance(trades, mkt)\n",
        "m"
      ],
      "execution_count": 0,
      "outputs": [
        {
          "output_type": "execute_result",
          "data": {
            "text/html": [
              "<div>\n",
              "<style scoped>\n",
              "    .dataframe tbody tr th:only-of-type {\n",
              "        vertical-align: middle;\n",
              "    }\n",
              "\n",
              "    .dataframe tbody tr th {\n",
              "        vertical-align: top;\n",
              "    }\n",
              "\n",
              "    .dataframe thead th {\n",
              "        text-align: right;\n",
              "    }\n",
              "</style>\n",
              "<table border=\"1\" class=\"dataframe\">\n",
              "  <thead>\n",
              "    <tr style=\"text-align: right;\">\n",
              "      <th></th>\n",
              "      <th>cnt_trade</th>\n",
              "      <th>cnt_win</th>\n",
              "      <th>cnt_lose</th>\n",
              "      <th>win_ratio</th>\n",
              "      <th>lose_ratio</th>\n",
              "      <th>avg_pl_per_amount</th>\n",
              "      <th>total_pl</th>\n",
              "      <th>total_win_pl</th>\n",
              "      <th>total_lose_pl</th>\n",
              "      <th>cnt_amount</th>\n",
              "      <th>avg_win_pl</th>\n",
              "      <th>avg_lose_pl</th>\n",
              "      <th>avg_pl_per_trade</th>\n",
              "    </tr>\n",
              "  </thead>\n",
              "  <tbody>\n",
              "    <tr>\n",
              "      <th>metrics</th>\n",
              "      <td>8641.0</td>\n",
              "      <td>2874.0</td>\n",
              "      <td>2957.0</td>\n",
              "      <td>0.3326</td>\n",
              "      <td>0.342206</td>\n",
              "      <td>-0.077857</td>\n",
              "      <td>-594.363405</td>\n",
              "      <td>9441.977049</td>\n",
              "      <td>-10036.340454</td>\n",
              "      <td>7634.0</td>\n",
              "      <td>3.285309</td>\n",
              "      <td>-3.394096</td>\n",
              "      <td>-0.068784</td>\n",
              "    </tr>\n",
              "  </tbody>\n",
              "</table>\n",
              "</div>"
            ],
            "text/plain": [
              "         cnt_trade  cnt_win  cnt_lose  win_ratio  lose_ratio  \\\n",
              "metrics     8641.0   2874.0    2957.0     0.3326    0.342206   \n",
              "\n",
              "         avg_pl_per_amount    total_pl  total_win_pl  total_lose_pl  \\\n",
              "metrics          -0.077857 -594.363405   9441.977049  -10036.340454   \n",
              "\n",
              "         cnt_amount  avg_win_pl  avg_lose_pl  avg_pl_per_trade  \n",
              "metrics      7634.0    3.285309    -3.394096         -0.068784  "
            ]
          },
          "metadata": {
            "tags": []
          },
          "execution_count": 25
        }
      ]
    },
    {
      "metadata": {
        "id": "1ycCCXstx2EX",
        "colab_type": "code",
        "colab": {}
      },
      "cell_type": "code",
      "source": [
        ""
      ],
      "execution_count": 0,
      "outputs": []
    }
  ]
}