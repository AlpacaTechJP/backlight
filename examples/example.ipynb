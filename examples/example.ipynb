{
  "nbformat": 4,
  "nbformat_minor": 0,
  "metadata": {
    "colab": {
      "name": "example.ipynb",
      "version": "0.3.2",
      "provenance": []
    },
    "kernelspec": {
      "display_name": "Python 3",
      "language": "python",
      "name": "python3"
    }
  },
  "cells": [
    {
      "metadata": {
        "id": "YcWgkTpb629f",
        "colab_type": "code",
        "outputId": "ba6cda78-8b72-4b58-9a70-6e6e31da327e",
        "colab": {
          "base_uri": "https://localhost:8080/",
          "height": 910
        }
      },
      "cell_type": "code",
      "source": [
        "!pip install git+https://github.com/AlpacaDB/backlight"
      ],
      "execution_count": 1,
      "outputs": [
        {
          "output_type": "stream",
          "text": [
            "Collecting git+https://github.com/keisuke-umezawa/backlight@feature/plot-pl-AL-1737\n",
            "  Cloning https://github.com/keisuke-umezawa/backlight (to revision feature/plot-pl-AL-1737) to /tmp/pip-req-build-oy6vddin\n",
            "Branch 'feature/plot-pl-AL-1737' set up to track remote branch 'feature/plot-pl-AL-1737' from 'origin'.\n",
            "Switched to a new branch 'feature/plot-pl-AL-1737'\n",
            "Collecting pandas==0.21.0 (from backlight==0.1)\n",
            "\u001b[?25l  Downloading https://files.pythonhosted.org/packages/9b/b7/d829de9794567443fbe230a666910d2c5ea3c28a6554f1246ab004583b82/pandas-0.21.0-cp36-cp36m-manylinux1_x86_64.whl (26.2MB)\n",
            "\u001b[K    100% |████████████████████████████████| 26.2MB 1.1MB/s \n",
            "\u001b[?25hCollecting numpy>=1.15.0 (from backlight==0.1)\n",
            "\u001b[?25l  Downloading https://files.pythonhosted.org/packages/ff/7f/9d804d2348471c67a7d8b5f84f9bc59fd1cefa148986f2b74552f8573555/numpy-1.15.4-cp36-cp36m-manylinux1_x86_64.whl (13.9MB)\n",
            "\u001b[K    100% |████████████████████████████████| 13.9MB 2.4MB/s \n",
            "\u001b[?25hCollecting matplotlib>=2.2.2 (from backlight==0.1)\n",
            "\u001b[?25l  Downloading https://files.pythonhosted.org/packages/71/07/16d781df15be30df4acfd536c479268f1208b2dfbc91e9ca5d92c9caf673/matplotlib-3.0.2-cp36-cp36m-manylinux1_x86_64.whl (12.9MB)\n",
            "\u001b[K    100% |████████████████████████████████| 12.9MB 2.8MB/s \n",
            "\u001b[?25hCollecting boto3>=1.9.36 (from backlight==0.1)\n",
            "\u001b[?25l  Downloading https://files.pythonhosted.org/packages/a9/ab/de8fc0a6f21b2ecba1e78d86afbeba89171ef06fc77f63b3d7b4e8cf62ee/boto3-1.9.58-py2.py3-none-any.whl (128kB)\n",
            "\u001b[K    100% |████████████████████████████████| 133kB 30.8MB/s \n",
            "\u001b[?25hRequirement already satisfied: pytz>=2011k in /usr/local/lib/python3.6/dist-packages (from pandas==0.21.0->backlight==0.1) (2018.7)\n",
            "Requirement already satisfied: python-dateutil>=2 in /usr/local/lib/python3.6/dist-packages (from pandas==0.21.0->backlight==0.1) (2.5.3)\n",
            "Requirement already satisfied: cycler>=0.10 in /usr/local/lib/python3.6/dist-packages (from matplotlib>=2.2.2->backlight==0.1) (0.10.0)\n",
            "Requirement already satisfied: pyparsing!=2.0.4,!=2.1.2,!=2.1.6,>=2.0.1 in /usr/local/lib/python3.6/dist-packages (from matplotlib>=2.2.2->backlight==0.1) (2.3.0)\n",
            "Collecting kiwisolver>=1.0.1 (from matplotlib>=2.2.2->backlight==0.1)\n",
            "\u001b[?25l  Downloading https://files.pythonhosted.org/packages/69/a7/88719d132b18300b4369fbffa741841cfd36d1e637e1990f27929945b538/kiwisolver-1.0.1-cp36-cp36m-manylinux1_x86_64.whl (949kB)\n",
            "\u001b[K    100% |████████████████████████████████| 952kB 17.3MB/s \n",
            "\u001b[?25hCollecting s3transfer<0.2.0,>=0.1.10 (from boto3>=1.9.36->backlight==0.1)\n",
            "\u001b[?25l  Downloading https://files.pythonhosted.org/packages/d7/14/2a0004d487464d120c9fb85313a75cd3d71a7506955be458eebfe19a6b1d/s3transfer-0.1.13-py2.py3-none-any.whl (59kB)\n",
            "\u001b[K    100% |████████████████████████████████| 61kB 23.3MB/s \n",
            "\u001b[?25hCollecting jmespath<1.0.0,>=0.7.1 (from boto3>=1.9.36->backlight==0.1)\n",
            "  Downloading https://files.pythonhosted.org/packages/b7/31/05c8d001f7f87f0f07289a5fc0fc3832e9a57f2dbd4d3b0fee70e0d51365/jmespath-0.9.3-py2.py3-none-any.whl\n",
            "Collecting botocore<1.13.0,>=1.12.58 (from boto3>=1.9.36->backlight==0.1)\n",
            "\u001b[?25l  Downloading https://files.pythonhosted.org/packages/7c/f0/e1640f8aa77006d0261db35d80eb995668f3de5439ea2ff624b44a176852/botocore-1.12.58-py2.py3-none-any.whl (5.1MB)\n",
            "\u001b[K    100% |████████████████████████████████| 5.1MB 5.5MB/s \n",
            "\u001b[?25hRequirement already satisfied: six>=1.5 in /usr/local/lib/python3.6/dist-packages (from python-dateutil>=2->pandas==0.21.0->backlight==0.1) (1.11.0)\n",
            "Requirement already satisfied: setuptools in /usr/local/lib/python3.6/dist-packages (from kiwisolver>=1.0.1->matplotlib>=2.2.2->backlight==0.1) (40.6.2)\n",
            "Collecting docutils>=0.10 (from botocore<1.13.0,>=1.12.58->boto3>=1.9.36->backlight==0.1)\n",
            "\u001b[?25l  Downloading https://files.pythonhosted.org/packages/36/fa/08e9e6e0e3cbd1d362c3bbee8d01d0aedb2155c4ac112b19ef3cae8eed8d/docutils-0.14-py3-none-any.whl (543kB)\n",
            "\u001b[K    100% |████████████████████████████████| 552kB 22.4MB/s \n",
            "\u001b[?25hRequirement already satisfied: urllib3<1.25,>=1.20; python_version >= \"3.4\" in /usr/local/lib/python3.6/dist-packages (from botocore<1.13.0,>=1.12.58->boto3>=1.9.36->backlight==0.1) (1.22)\n",
            "Building wheels for collected packages: backlight\n",
            "  Running setup.py bdist_wheel for backlight ... \u001b[?25l-\b \b\\\b \bdone\n",
            "\u001b[?25h  Stored in directory: /tmp/pip-ephem-wheel-cache-gb55zgpa/wheels/a6/78/40/54a1fbaba272970e7b6036a64729fabecfa8df3fdde43f1ca9\n",
            "Successfully built backlight\n",
            "Installing collected packages: numpy, pandas, kiwisolver, matplotlib, docutils, jmespath, botocore, s3transfer, boto3, backlight\n",
            "  Found existing installation: numpy 1.14.6\n",
            "    Uninstalling numpy-1.14.6:\n",
            "      Successfully uninstalled numpy-1.14.6\n",
            "  Found existing installation: pandas 0.22.0\n",
            "    Uninstalling pandas-0.22.0:\n",
            "      Successfully uninstalled pandas-0.22.0\n",
            "  Found existing installation: matplotlib 2.1.2\n",
            "    Uninstalling matplotlib-2.1.2:\n",
            "      Successfully uninstalled matplotlib-2.1.2\n",
            "Successfully installed backlight-0.1 boto3-1.9.58 botocore-1.12.58 docutils-0.14 jmespath-0.9.3 kiwisolver-1.0.1 matplotlib-3.0.2 numpy-1.15.4 pandas-0.21.0 s3transfer-0.1.13\n"
          ],
          "name": "stdout"
        }
      ]
    },
    {
      "metadata": {
        "id": "i6bib12j6xp7",
        "colab_type": "code",
        "colab": {}
      },
      "cell_type": "code",
      "source": [
        "import os\n",
        "import numpy as np\n",
        "import pandas as pd\n",
        "import backlight"
      ],
      "execution_count": 0,
      "outputs": []
    },
    {
      "metadata": {
        "id": "ZF43p4g96xqB",
        "colab_type": "text"
      },
      "cell_type": "markdown",
      "source": [
        "# Generate example dummy data"
      ]
    },
    {
      "metadata": {
        "id": "ZGqKO9L56xqC",
        "colab_type": "code",
        "colab": {}
      },
      "cell_type": "code",
      "source": [
        "np.random.seed(0)\n",
        "\n",
        "# market data\n",
        "if not os.path.exists(\"example_market.csv\"):\n",
        "    idx = pd.date_range(\"2018-04-01 00:00:00\", \"2018-06-30 23:59:59\", freq=\"10S\")\n",
        "    ask = np.cumsum(np.random.rand(len(idx)) - 0.5) + 100.0\n",
        "    bid = ask - 0.02\n",
        "    pd.DataFrame(\n",
        "        index=idx,\n",
        "        data=np.array([ask, bid]).T,\n",
        "        columns=[\"ask\", \"bid\"]\n",
        "    ).abs().to_csv(\"example_market.csv\")\n",
        "\n",
        "# signal data\n",
        "if not os.path.exists(\"example_signal.csv\"):\n",
        "    sig = np.random.rand(3, len(idx)).T\n",
        "    n = np.sum(sig, axis=1)\n",
        "    pd.DataFrame(\n",
        "        index=idx,\n",
        "        data=sig / n.reshape(-1, 1),\n",
        "        columns=[\"down\", \"neutral\", \"up\"]\n",
        "    ).to_csv(\"example_signal.csv\")"
      ],
      "execution_count": 0,
      "outputs": []
    },
    {
      "metadata": {
        "id": "NRgwvXRn6xqD",
        "colab_type": "text"
      },
      "cell_type": "markdown",
      "source": [
        "# Configuration"
      ]
    },
    {
      "metadata": {
        "id": "n64RoXWY6xqE",
        "colab_type": "code",
        "colab": {}
      },
      "cell_type": "code",
      "source": [
        "model_id = \"\"\n",
        "start_dt = \"2018-06-03 00:00:00+0000\"\n",
        "end_dt = \"2018-06-06 00:00:00+0000\"\n",
        "sig_url = \"file:///{}/example_signal.csv\".format(os.getcwd())\n",
        "mkt_url = \"file:///{}/example_market.csv\".format(os.getcwd())"
      ],
      "execution_count": 0,
      "outputs": []
    },
    {
      "metadata": {
        "id": "IRcj63TV6xqG",
        "colab_type": "text"
      },
      "cell_type": "markdown",
      "source": [
        "# loading the signal"
      ]
    },
    {
      "metadata": {
        "scrolled": false,
        "id": "w2C7NALO6xqG",
        "colab_type": "code",
        "colab": {}
      },
      "cell_type": "code",
      "source": [
        "from backlight import signal\n",
        "\n",
        "SYMBOL = \"USDJPY\"\n",
        "sig = signal.load_signal(SYMBOL, sig_url, start_dt, end_dt)"
      ],
      "execution_count": 0,
      "outputs": []
    },
    {
      "metadata": {
        "id": "JXAPItmA6xqI",
        "colab_type": "code",
        "outputId": "a198b862-c796-429e-8814-4ddf54d6a628",
        "colab": {
          "base_uri": "https://localhost:8080/",
          "height": 195
        }
      },
      "cell_type": "code",
      "source": [
        "sig.tail()"
      ],
      "execution_count": 6,
      "outputs": [
        {
          "output_type": "execute_result",
          "data": {
            "text/html": [
              "<div>\n",
              "<style scoped>\n",
              "    .dataframe tbody tr th:only-of-type {\n",
              "        vertical-align: middle;\n",
              "    }\n",
              "\n",
              "    .dataframe tbody tr th {\n",
              "        vertical-align: top;\n",
              "    }\n",
              "\n",
              "    .dataframe thead th {\n",
              "        text-align: right;\n",
              "    }\n",
              "</style>\n",
              "<table border=\"1\" class=\"dataframe\">\n",
              "  <thead>\n",
              "    <tr style=\"text-align: right;\">\n",
              "      <th></th>\n",
              "      <th>down</th>\n",
              "      <th>neutral</th>\n",
              "      <th>up</th>\n",
              "      <th>pred</th>\n",
              "    </tr>\n",
              "  </thead>\n",
              "  <tbody>\n",
              "    <tr>\n",
              "      <th>2018-06-05 23:59:20</th>\n",
              "      <td>0.734946</td>\n",
              "      <td>0.104560</td>\n",
              "      <td>0.160494</td>\n",
              "      <td>-1.0</td>\n",
              "    </tr>\n",
              "    <tr>\n",
              "      <th>2018-06-05 23:59:30</th>\n",
              "      <td>0.360211</td>\n",
              "      <td>0.387104</td>\n",
              "      <td>0.252685</td>\n",
              "      <td>0.0</td>\n",
              "    </tr>\n",
              "    <tr>\n",
              "      <th>2018-06-05 23:59:40</th>\n",
              "      <td>0.234186</td>\n",
              "      <td>0.171650</td>\n",
              "      <td>0.594164</td>\n",
              "      <td>1.0</td>\n",
              "    </tr>\n",
              "    <tr>\n",
              "      <th>2018-06-05 23:59:50</th>\n",
              "      <td>0.351268</td>\n",
              "      <td>0.504142</td>\n",
              "      <td>0.144590</td>\n",
              "      <td>0.0</td>\n",
              "    </tr>\n",
              "    <tr>\n",
              "      <th>2018-06-06 00:00:00</th>\n",
              "      <td>0.292940</td>\n",
              "      <td>0.255769</td>\n",
              "      <td>0.451291</td>\n",
              "      <td>1.0</td>\n",
              "    </tr>\n",
              "  </tbody>\n",
              "</table>\n",
              "</div>"
            ],
            "text/plain": [
              "                         down   neutral        up  pred\n",
              "2018-06-05 23:59:20  0.734946  0.104560  0.160494  -1.0\n",
              "2018-06-05 23:59:30  0.360211  0.387104  0.252685   0.0\n",
              "2018-06-05 23:59:40  0.234186  0.171650  0.594164   1.0\n",
              "2018-06-05 23:59:50  0.351268  0.504142  0.144590   0.0\n",
              "2018-06-06 00:00:00  0.292940  0.255769  0.451291   1.0"
            ]
          },
          "metadata": {
            "tags": []
          },
          "execution_count": 6
        }
      ]
    },
    {
      "metadata": {
        "id": "UkrZI_4F6xqN",
        "colab_type": "code",
        "outputId": "c34a9453-2e08-4b82-b473-53966d58cc1a",
        "colab": {
          "base_uri": "https://localhost:8080/",
          "height": 34
        }
      },
      "cell_type": "code",
      "source": [
        "sig.symbol"
      ],
      "execution_count": 7,
      "outputs": [
        {
          "output_type": "execute_result",
          "data": {
            "text/plain": [
              "'USDJPY'"
            ]
          },
          "metadata": {
            "tags": []
          },
          "execution_count": 7
        }
      ]
    },
    {
      "metadata": {
        "id": "VlWyyxd36xqQ",
        "colab_type": "text"
      },
      "cell_type": "markdown",
      "source": [
        "# loading the marketdata"
      ]
    },
    {
      "metadata": {
        "id": "114Fi1Xr6xqR",
        "colab_type": "code",
        "colab": {}
      },
      "cell_type": "code",
      "source": [
        "from backlight import datasource\n",
        "\n",
        "mkt = datasource.load_marketdata(\n",
        "    sig.symbol,\n",
        "    sig.start_dt,\n",
        "    sig.end_dt,\n",
        "    mkt_url,\n",
        ")"
      ],
      "execution_count": 0,
      "outputs": []
    },
    {
      "metadata": {
        "id": "DB_xvXvy6xqT",
        "colab_type": "code",
        "outputId": "04e54ed8-4a31-4820-c39c-da71d659c296",
        "colab": {
          "base_uri": "https://localhost:8080/",
          "height": 195
        }
      },
      "cell_type": "code",
      "source": [
        "mkt.tail()"
      ],
      "execution_count": 9,
      "outputs": [
        {
          "output_type": "execute_result",
          "data": {
            "text/html": [
              "<div>\n",
              "<style scoped>\n",
              "    .dataframe tbody tr th:only-of-type {\n",
              "        vertical-align: middle;\n",
              "    }\n",
              "\n",
              "    .dataframe tbody tr th {\n",
              "        vertical-align: top;\n",
              "    }\n",
              "\n",
              "    .dataframe thead th {\n",
              "        text-align: right;\n",
              "    }\n",
              "</style>\n",
              "<table border=\"1\" class=\"dataframe\">\n",
              "  <thead>\n",
              "    <tr style=\"text-align: right;\">\n",
              "      <th></th>\n",
              "      <th>ask</th>\n",
              "      <th>bid</th>\n",
              "    </tr>\n",
              "  </thead>\n",
              "  <tbody>\n",
              "    <tr>\n",
              "      <th>2018-06-05 23:59:20</th>\n",
              "      <td>36.292220</td>\n",
              "      <td>36.272220</td>\n",
              "    </tr>\n",
              "    <tr>\n",
              "      <th>2018-06-05 23:59:30</th>\n",
              "      <td>36.633025</td>\n",
              "      <td>36.613025</td>\n",
              "    </tr>\n",
              "    <tr>\n",
              "      <th>2018-06-05 23:59:40</th>\n",
              "      <td>36.333093</td>\n",
              "      <td>36.313093</td>\n",
              "    </tr>\n",
              "    <tr>\n",
              "      <th>2018-06-05 23:59:50</th>\n",
              "      <td>36.066769</td>\n",
              "      <td>36.046769</td>\n",
              "    </tr>\n",
              "    <tr>\n",
              "      <th>2018-06-06 00:00:00</th>\n",
              "      <td>36.344929</td>\n",
              "      <td>36.324929</td>\n",
              "    </tr>\n",
              "  </tbody>\n",
              "</table>\n",
              "</div>"
            ],
            "text/plain": [
              "                           ask        bid\n",
              "2018-06-05 23:59:20  36.292220  36.272220\n",
              "2018-06-05 23:59:30  36.633025  36.613025\n",
              "2018-06-05 23:59:40  36.333093  36.313093\n",
              "2018-06-05 23:59:50  36.066769  36.046769\n",
              "2018-06-06 00:00:00  36.344929  36.324929"
            ]
          },
          "metadata": {
            "tags": []
          },
          "execution_count": 9
        }
      ]
    },
    {
      "metadata": {
        "id": "LhcoLx4J6xqW",
        "colab_type": "text"
      },
      "cell_type": "markdown",
      "source": [
        "# generating labels"
      ]
    },
    {
      "metadata": {
        "id": "siz3mz4I6xqY",
        "colab_type": "text"
      },
      "cell_type": "markdown",
      "source": [
        "## Fixed Neutral"
      ]
    },
    {
      "metadata": {
        "id": "sYRePzR86xqZ",
        "colab_type": "code",
        "colab": {}
      },
      "cell_type": "code",
      "source": [
        "from backlight import labelizer\n",
        "from backlight.labelizer.ternary.fixed_neutral import FixedNeutralLabelizer\n",
        "\n",
        "\n",
        "lbl_fix = labelizer.generate_labels(\n",
        "    mkt,\n",
        "    FixedNeutralLabelizer(\n",
        "        lookahead=\"3Min\",\n",
        "        neutral_atol=0.075,\n",
        "        neutral_rtol=0.00,\n",
        "    ))"
      ],
      "execution_count": 0,
      "outputs": []
    },
    {
      "metadata": {
        "id": "9RSl3y8m6xqb",
        "colab_type": "code",
        "outputId": "0d053123-8d48-447e-9333-e74bf1c9f06e",
        "colab": {
          "base_uri": "https://localhost:8080/",
          "height": 195
        }
      },
      "cell_type": "code",
      "source": [
        "lbl_fix.head()"
      ],
      "execution_count": 11,
      "outputs": [
        {
          "output_type": "execute_result",
          "data": {
            "text/html": [
              "<div>\n",
              "<style scoped>\n",
              "    .dataframe tbody tr th:only-of-type {\n",
              "        vertical-align: middle;\n",
              "    }\n",
              "\n",
              "    .dataframe tbody tr th {\n",
              "        vertical-align: top;\n",
              "    }\n",
              "\n",
              "    .dataframe thead th {\n",
              "        text-align: right;\n",
              "    }\n",
              "</style>\n",
              "<table border=\"1\" class=\"dataframe\">\n",
              "  <thead>\n",
              "    <tr style=\"text-align: right;\">\n",
              "      <th></th>\n",
              "      <th>mid</th>\n",
              "      <th>label_diff</th>\n",
              "      <th>label</th>\n",
              "    </tr>\n",
              "  </thead>\n",
              "  <tbody>\n",
              "    <tr>\n",
              "      <th>2018-06-03 00:00:00</th>\n",
              "      <td>80.257283</td>\n",
              "      <td>-0.854094</td>\n",
              "      <td>-1.0</td>\n",
              "    </tr>\n",
              "    <tr>\n",
              "      <th>2018-06-03 00:00:10</th>\n",
              "      <td>80.010294</td>\n",
              "      <td>-0.446213</td>\n",
              "      <td>-1.0</td>\n",
              "    </tr>\n",
              "    <tr>\n",
              "      <th>2018-06-03 00:00:20</th>\n",
              "      <td>79.701448</td>\n",
              "      <td>0.156435</td>\n",
              "      <td>1.0</td>\n",
              "    </tr>\n",
              "    <tr>\n",
              "      <th>2018-06-03 00:00:30</th>\n",
              "      <td>79.822766</td>\n",
              "      <td>-0.402531</td>\n",
              "      <td>-1.0</td>\n",
              "    </tr>\n",
              "    <tr>\n",
              "      <th>2018-06-03 00:00:40</th>\n",
              "      <td>79.959499</td>\n",
              "      <td>-0.609441</td>\n",
              "      <td>-1.0</td>\n",
              "    </tr>\n",
              "  </tbody>\n",
              "</table>\n",
              "</div>"
            ],
            "text/plain": [
              "                           mid  label_diff  label\n",
              "2018-06-03 00:00:00  80.257283   -0.854094   -1.0\n",
              "2018-06-03 00:00:10  80.010294   -0.446213   -1.0\n",
              "2018-06-03 00:00:20  79.701448    0.156435    1.0\n",
              "2018-06-03 00:00:30  79.822766   -0.402531   -1.0\n",
              "2018-06-03 00:00:40  79.959499   -0.609441   -1.0"
            ]
          },
          "metadata": {
            "tags": []
          },
          "execution_count": 11
        }
      ]
    },
    {
      "metadata": {
        "id": "kjeJr_Ba6xqe",
        "colab_type": "code",
        "outputId": "716c54f5-dd1a-4d99-9cab-2b0545e95602",
        "colab": {
          "base_uri": "https://localhost:8080/",
          "height": 34
        }
      },
      "cell_type": "code",
      "source": [
        "lbl_fix.label_type"
      ],
      "execution_count": 12,
      "outputs": [
        {
          "output_type": "execute_result",
          "data": {
            "text/plain": [
              "'ternary'"
            ]
          },
          "metadata": {
            "tags": []
          },
          "execution_count": 12
        }
      ]
    },
    {
      "metadata": {
        "id": "I8TB5wV66xqh",
        "colab_type": "code",
        "outputId": "e53e950a-705a-45fa-be09-37a38b61bc38",
        "colab": {
          "base_uri": "https://localhost:8080/",
          "height": 101
        }
      },
      "cell_type": "code",
      "source": [
        "# (-1.0, 0.0, 1.0) : (Down, Neutral, Up)\n",
        "lbl_fix.groupby(\"label\").label.count() / len(lbl_fix)"
      ],
      "execution_count": 13,
      "outputs": [
        {
          "output_type": "execute_result",
          "data": {
            "text/plain": [
              "label\n",
              "-1.0    0.487906\n",
              " 0.0    0.048262\n",
              " 1.0    0.463138\n",
              "Name: label, dtype: float64"
            ]
          },
          "metadata": {
            "tags": []
          },
          "execution_count": 13
        }
      ]
    },
    {
      "metadata": {
        "id": "vJE99Kll6xqk",
        "colab_type": "text"
      },
      "cell_type": "markdown",
      "source": [
        "## Dynamic Neutral"
      ]
    },
    {
      "metadata": {
        "id": "4o0UHqit6xqm",
        "colab_type": "code",
        "colab": {}
      },
      "cell_type": "code",
      "source": [
        "from backlight.labelizer.ternary.dynamic_neutral import DynamicNeutralLabelizer\n",
        "\n",
        "lbl_dyn = labelizer.generate_labels(\n",
        "    mkt,\n",
        "    DynamicNeutralLabelizer(\n",
        "        lookahead=\"3Min\",\n",
        "        neutral_ratio=0.38,\n",
        "        neutral_window=\"1H\",\n",
        "        neutral_hard_limit=0.0,\n",
        "    ))"
      ],
      "execution_count": 0,
      "outputs": []
    },
    {
      "metadata": {
        "id": "JBP9flqR6xqp",
        "colab_type": "code",
        "outputId": "a0faa259-0ade-41db-81d0-d785e40f3345",
        "colab": {
          "base_uri": "https://localhost:8080/",
          "height": 195
        }
      },
      "cell_type": "code",
      "source": [
        "lbl_dyn.head()"
      ],
      "execution_count": 15,
      "outputs": [
        {
          "output_type": "execute_result",
          "data": {
            "text/html": [
              "<div>\n",
              "<style scoped>\n",
              "    .dataframe tbody tr th:only-of-type {\n",
              "        vertical-align: middle;\n",
              "    }\n",
              "\n",
              "    .dataframe tbody tr th {\n",
              "        vertical-align: top;\n",
              "    }\n",
              "\n",
              "    .dataframe thead th {\n",
              "        text-align: right;\n",
              "    }\n",
              "</style>\n",
              "<table border=\"1\" class=\"dataframe\">\n",
              "  <thead>\n",
              "    <tr style=\"text-align: right;\">\n",
              "      <th></th>\n",
              "      <th>label_diff</th>\n",
              "      <th>label</th>\n",
              "      <th>neutral_range</th>\n",
              "    </tr>\n",
              "  </thead>\n",
              "  <tbody>\n",
              "    <tr>\n",
              "      <th>2018-06-03 00:00:00</th>\n",
              "      <td>-0.854094</td>\n",
              "      <td>-1.0</td>\n",
              "      <td>0.854094</td>\n",
              "    </tr>\n",
              "    <tr>\n",
              "      <th>2018-06-03 00:00:10</th>\n",
              "      <td>-0.446213</td>\n",
              "      <td>0.0</td>\n",
              "      <td>0.601208</td>\n",
              "    </tr>\n",
              "    <tr>\n",
              "      <th>2018-06-03 00:00:20</th>\n",
              "      <td>0.156435</td>\n",
              "      <td>0.0</td>\n",
              "      <td>0.376667</td>\n",
              "    </tr>\n",
              "    <tr>\n",
              "      <th>2018-06-03 00:00:30</th>\n",
              "      <td>-0.402531</td>\n",
              "      <td>0.0</td>\n",
              "      <td>0.408647</td>\n",
              "    </tr>\n",
              "    <tr>\n",
              "      <th>2018-06-03 00:00:40</th>\n",
              "      <td>-0.609441</td>\n",
              "      <td>-1.0</td>\n",
              "      <td>0.425246</td>\n",
              "    </tr>\n",
              "  </tbody>\n",
              "</table>\n",
              "</div>"
            ],
            "text/plain": [
              "                     label_diff  label  neutral_range\n",
              "2018-06-03 00:00:00   -0.854094   -1.0       0.854094\n",
              "2018-06-03 00:00:10   -0.446213    0.0       0.601208\n",
              "2018-06-03 00:00:20    0.156435    0.0       0.376667\n",
              "2018-06-03 00:00:30   -0.402531    0.0       0.408647\n",
              "2018-06-03 00:00:40   -0.609441   -1.0       0.425246"
            ]
          },
          "metadata": {
            "tags": []
          },
          "execution_count": 15
        }
      ]
    },
    {
      "metadata": {
        "id": "OeKgZ2JA6xqt",
        "colab_type": "code",
        "outputId": "76beae74-9639-418c-8e1b-f22603f8041a",
        "colab": {
          "base_uri": "https://localhost:8080/",
          "height": 34
        }
      },
      "cell_type": "code",
      "source": [
        "lbl_dyn.label_type"
      ],
      "execution_count": 16,
      "outputs": [
        {
          "output_type": "execute_result",
          "data": {
            "text/plain": [
              "'ternary'"
            ]
          },
          "metadata": {
            "tags": []
          },
          "execution_count": 16
        }
      ]
    },
    {
      "metadata": {
        "id": "qGVtfRk16xqv",
        "colab_type": "code",
        "outputId": "85a42e28-001b-4835-96df-d32720f18217",
        "colab": {
          "base_uri": "https://localhost:8080/",
          "height": 101
        }
      },
      "cell_type": "code",
      "source": [
        "# (-1.0, 0.0, 1.0) : (Down, Neutral, Up)\n",
        "lbl_dyn.groupby(\"label\").label.count() / len(lbl_dyn)"
      ],
      "execution_count": 17,
      "outputs": [
        {
          "output_type": "execute_result",
          "data": {
            "text/plain": [
              "label\n",
              "-1.0    0.317465\n",
              " 0.0    0.382547\n",
              " 1.0    0.299294\n",
              "Name: label, dtype: float64"
            ]
          },
          "metadata": {
            "tags": []
          },
          "execution_count": 17
        }
      ]
    },
    {
      "metadata": {
        "id": "giOcORdC6xqy",
        "colab_type": "text"
      },
      "cell_type": "markdown",
      "source": [
        "# simulate trading strategy"
      ]
    },
    {
      "metadata": {
        "scrolled": true,
        "id": "aEBlNlSK6xqz",
        "colab_type": "code",
        "colab": {}
      },
      "cell_type": "code",
      "source": [
        "from backlight import strategies\n",
        "trades = strategies.simple_entry_and_exit(mkt, sig, max_holding_time=pd.Timedelta('30min'))"
      ],
      "execution_count": 0,
      "outputs": []
    },
    {
      "metadata": {
        "id": "L7IvCI3r6xq3",
        "colab_type": "text"
      },
      "cell_type": "markdown",
      "source": [
        "# simulate and evaluate positions"
      ]
    },
    {
      "metadata": {
        "id": "XODGSv6y6xq3",
        "colab_type": "code",
        "colab": {}
      },
      "cell_type": "code",
      "source": [
        "from backlight import positions\n",
        "positions = positions.calc_positions(trades, mkt)"
      ],
      "execution_count": 0,
      "outputs": []
    },
    {
      "metadata": {
        "scrolled": true,
        "id": "eER3knrW6xq5",
        "colab_type": "code",
        "outputId": "7e43487e-9283-4abf-acf6-d520b17ce2b6",
        "colab": {
          "base_uri": "https://localhost:8080/",
          "height": 195
        }
      },
      "cell_type": "code",
      "source": [
        "positions.head()"
      ],
      "execution_count": 20,
      "outputs": [
        {
          "output_type": "execute_result",
          "data": {
            "text/html": [
              "<div>\n",
              "<style scoped>\n",
              "    .dataframe tbody tr th:only-of-type {\n",
              "        vertical-align: middle;\n",
              "    }\n",
              "\n",
              "    .dataframe tbody tr th {\n",
              "        vertical-align: top;\n",
              "    }\n",
              "\n",
              "    .dataframe thead th {\n",
              "        text-align: right;\n",
              "    }\n",
              "</style>\n",
              "<table border=\"1\" class=\"dataframe\">\n",
              "  <thead>\n",
              "    <tr style=\"text-align: right;\">\n",
              "      <th></th>\n",
              "      <th>amount</th>\n",
              "      <th>price</th>\n",
              "    </tr>\n",
              "  </thead>\n",
              "  <tbody>\n",
              "    <tr>\n",
              "      <th>2018-06-03 00:00:00</th>\n",
              "      <td>0.0</td>\n",
              "      <td>80.257283</td>\n",
              "    </tr>\n",
              "    <tr>\n",
              "      <th>2018-06-03 00:00:10</th>\n",
              "      <td>0.0</td>\n",
              "      <td>80.010294</td>\n",
              "    </tr>\n",
              "    <tr>\n",
              "      <th>2018-06-03 00:00:20</th>\n",
              "      <td>1.0</td>\n",
              "      <td>79.701448</td>\n",
              "    </tr>\n",
              "    <tr>\n",
              "      <th>2018-06-03 00:00:30</th>\n",
              "      <td>1.0</td>\n",
              "      <td>79.822766</td>\n",
              "    </tr>\n",
              "    <tr>\n",
              "      <th>2018-06-03 00:00:40</th>\n",
              "      <td>2.0</td>\n",
              "      <td>79.959499</td>\n",
              "    </tr>\n",
              "  </tbody>\n",
              "</table>\n",
              "</div>"
            ],
            "text/plain": [
              "                     amount      price\n",
              "2018-06-03 00:00:00     0.0  80.257283\n",
              "2018-06-03 00:00:10     0.0  80.010294\n",
              "2018-06-03 00:00:20     1.0  79.701448\n",
              "2018-06-03 00:00:30     1.0  79.822766\n",
              "2018-06-03 00:00:40     2.0  79.959499"
            ]
          },
          "metadata": {
            "tags": []
          },
          "execution_count": 20
        }
      ]
    },
    {
      "metadata": {
        "id": "8K8woTUF6xq8",
        "colab_type": "text"
      },
      "cell_type": "markdown",
      "source": [
        "# Calculate Metrics - based on the raw signals"
      ]
    },
    {
      "metadata": {
        "id": "wWIs7IqX6xq8",
        "colab_type": "code",
        "outputId": "8b71532c-f6f9-4689-869f-e72b6f61d0a1",
        "colab": {
          "base_uri": "https://localhost:8080/",
          "height": 181
        }
      },
      "cell_type": "code",
      "source": [
        "from backlight import metrics\n",
        "m = metrics.calc_metrics(sig, lbl_fix)\n",
        "m"
      ],
      "execution_count": 21,
      "outputs": [
        {
          "output_type": "stream",
          "text": [
            "/usr/local/lib/python3.6/dist-packages/backlight/metrics/ternary.py:36: SettingWithCopyWarning: \n",
            "A value is trying to be set on a copy of a slice from a DataFrame\n",
            "\n",
            "See the caveats in the documentation: http://pandas.pydata.org/pandas-docs/stable/indexing.html#indexing-view-versus-copy\n",
            "  pl.loc[sig.pred == TD.D.value] *= -1\n"
          ],
          "name": "stderr"
        },
        {
          "output_type": "execute_result",
          "data": {
            "text/html": [
              "<div>\n",
              "<style scoped>\n",
              "    .dataframe tbody tr th:only-of-type {\n",
              "        vertical-align: middle;\n",
              "    }\n",
              "\n",
              "    .dataframe tbody tr th {\n",
              "        vertical-align: top;\n",
              "    }\n",
              "\n",
              "    .dataframe thead th {\n",
              "        text-align: right;\n",
              "    }\n",
              "</style>\n",
              "<table border=\"1\" class=\"dataframe\">\n",
              "  <thead>\n",
              "    <tr style=\"text-align: right;\">\n",
              "      <th></th>\n",
              "      <th>cnt_uu</th>\n",
              "      <th>cnt_un</th>\n",
              "      <th>cnt_ud</th>\n",
              "      <th>cnt_nu</th>\n",
              "      <th>cnt_nn</th>\n",
              "      <th>cnt_nd</th>\n",
              "      <th>cnt_du</th>\n",
              "      <th>cnt_dn</th>\n",
              "      <th>cnt_dd</th>\n",
              "      <th>cnt_total</th>\n",
              "      <th>hit_ratio</th>\n",
              "      <th>hedge_ratio</th>\n",
              "      <th>neutral_ratio</th>\n",
              "      <th>coverage</th>\n",
              "      <th>avg_pl</th>\n",
              "      <th>total_pl</th>\n",
              "    </tr>\n",
              "  </thead>\n",
              "  <tbody>\n",
              "    <tr>\n",
              "      <th>metrics</th>\n",
              "      <td>3940.0</td>\n",
              "      <td>400.0</td>\n",
              "      <td>4238.0</td>\n",
              "      <td>4082.0</td>\n",
              "      <td>398.0</td>\n",
              "      <td>4178.0</td>\n",
              "      <td>3983.0</td>\n",
              "      <td>453.0</td>\n",
              "      <td>4231.0</td>\n",
              "      <td>25921.0</td>\n",
              "      <td>0.498475</td>\n",
              "      <td>0.523282</td>\n",
              "      <td>0.334015</td>\n",
              "      <td>0.665291</td>\n",
              "      <td>-0.003241</td>\n",
              "      <td>-55.89208</td>\n",
              "    </tr>\n",
              "  </tbody>\n",
              "</table>\n",
              "</div>"
            ],
            "text/plain": [
              "         cnt_uu  cnt_un  cnt_ud  cnt_nu  cnt_nn  cnt_nd  cnt_du  cnt_dn  \\\n",
              "metrics  3940.0   400.0  4238.0  4082.0   398.0  4178.0  3983.0   453.0   \n",
              "\n",
              "         cnt_dd  cnt_total  hit_ratio  hedge_ratio  neutral_ratio  coverage  \\\n",
              "metrics  4231.0    25921.0   0.498475     0.523282       0.334015  0.665291   \n",
              "\n",
              "           avg_pl  total_pl  \n",
              "metrics -0.003241 -55.89208  "
            ]
          },
          "metadata": {
            "tags": []
          },
          "execution_count": 21
        }
      ]
    },
    {
      "metadata": {
        "id": "XkTJvI8p6xq_",
        "colab_type": "code",
        "outputId": "2642e14d-7f47-44cb-d964-a543f386bc76",
        "colab": {
          "base_uri": "https://localhost:8080/",
          "height": 181
        }
      },
      "cell_type": "code",
      "source": [
        "from backlight import metrics\n",
        "m = metrics.calc_metrics(sig, lbl_dyn)\n",
        "m"
      ],
      "execution_count": 22,
      "outputs": [
        {
          "output_type": "stream",
          "text": [
            "/usr/local/lib/python3.6/dist-packages/backlight/metrics/ternary.py:36: SettingWithCopyWarning: \n",
            "A value is trying to be set on a copy of a slice from a DataFrame\n",
            "\n",
            "See the caveats in the documentation: http://pandas.pydata.org/pandas-docs/stable/indexing.html#indexing-view-versus-copy\n",
            "  pl.loc[sig.pred == TD.D.value] *= -1\n"
          ],
          "name": "stderr"
        },
        {
          "output_type": "execute_result",
          "data": {
            "text/html": [
              "<div>\n",
              "<style scoped>\n",
              "    .dataframe tbody tr th:only-of-type {\n",
              "        vertical-align: middle;\n",
              "    }\n",
              "\n",
              "    .dataframe tbody tr th {\n",
              "        vertical-align: top;\n",
              "    }\n",
              "\n",
              "    .dataframe thead th {\n",
              "        text-align: right;\n",
              "    }\n",
              "</style>\n",
              "<table border=\"1\" class=\"dataframe\">\n",
              "  <thead>\n",
              "    <tr style=\"text-align: right;\">\n",
              "      <th></th>\n",
              "      <th>cnt_uu</th>\n",
              "      <th>cnt_un</th>\n",
              "      <th>cnt_ud</th>\n",
              "      <th>cnt_nu</th>\n",
              "      <th>cnt_nn</th>\n",
              "      <th>cnt_nd</th>\n",
              "      <th>cnt_du</th>\n",
              "      <th>cnt_dn</th>\n",
              "      <th>cnt_dd</th>\n",
              "      <th>cnt_total</th>\n",
              "      <th>hit_ratio</th>\n",
              "      <th>hedge_ratio</th>\n",
              "      <th>neutral_ratio</th>\n",
              "      <th>coverage</th>\n",
              "      <th>avg_pl</th>\n",
              "      <th>total_pl</th>\n",
              "    </tr>\n",
              "  </thead>\n",
              "  <tbody>\n",
              "    <tr>\n",
              "      <th>metrics</th>\n",
              "      <td>2528.0</td>\n",
              "      <td>3302.0</td>\n",
              "      <td>2748.0</td>\n",
              "      <td>2663.0</td>\n",
              "      <td>3262.0</td>\n",
              "      <td>2733.0</td>\n",
              "      <td>2567.0</td>\n",
              "      <td>3352.0</td>\n",
              "      <td>2748.0</td>\n",
              "      <td>25921.0</td>\n",
              "      <td>0.498159</td>\n",
              "      <td>0.691795</td>\n",
              "      <td>0.334015</td>\n",
              "      <td>0.665291</td>\n",
              "      <td>-0.003241</td>\n",
              "      <td>-55.89208</td>\n",
              "    </tr>\n",
              "  </tbody>\n",
              "</table>\n",
              "</div>"
            ],
            "text/plain": [
              "         cnt_uu  cnt_un  cnt_ud  cnt_nu  cnt_nn  cnt_nd  cnt_du  cnt_dn  \\\n",
              "metrics  2528.0  3302.0  2748.0  2663.0  3262.0  2733.0  2567.0  3352.0   \n",
              "\n",
              "         cnt_dd  cnt_total  hit_ratio  hedge_ratio  neutral_ratio  coverage  \\\n",
              "metrics  2748.0    25921.0   0.498159     0.691795       0.334015  0.665291   \n",
              "\n",
              "           avg_pl  total_pl  \n",
              "metrics -0.003241 -55.89208  "
            ]
          },
          "metadata": {
            "tags": []
          },
          "execution_count": 22
        }
      ]
    },
    {
      "metadata": {
        "id": "eIOZeRm1zZou",
        "colab_type": "text"
      },
      "cell_type": "markdown",
      "source": [
        "# Calculate Performance"
      ]
    },
    {
      "metadata": {
        "id": "ewlQekGuziD1",
        "colab_type": "code",
        "outputId": "7ab6a977-9278-4f6e-da95-12983cdd8720",
        "colab": {
          "base_uri": "https://localhost:8080/",
          "height": 77
        }
      },
      "cell_type": "code",
      "source": [
        "from backlight import metrics\n",
        "m = metrics.calc_position_performance(positions)\n",
        "m"
      ],
      "execution_count": 23,
      "outputs": [
        {
          "output_type": "execute_result",
          "data": {
            "text/html": [
              "<div>\n",
              "<style scoped>\n",
              "    .dataframe tbody tr th:only-of-type {\n",
              "        vertical-align: middle;\n",
              "    }\n",
              "\n",
              "    .dataframe tbody tr th {\n",
              "        vertical-align: top;\n",
              "    }\n",
              "\n",
              "    .dataframe thead th {\n",
              "        text-align: right;\n",
              "    }\n",
              "</style>\n",
              "<table border=\"1\" class=\"dataframe\">\n",
              "  <thead>\n",
              "    <tr style=\"text-align: right;\">\n",
              "      <th></th>\n",
              "      <th>avg_pl_per_amount</th>\n",
              "      <th>total_pl</th>\n",
              "      <th>total_win_pl</th>\n",
              "      <th>total_lose_pl</th>\n",
              "      <th>cnt_amount</th>\n",
              "    </tr>\n",
              "  </thead>\n",
              "  <tbody>\n",
              "    <tr>\n",
              "      <th>metrics</th>\n",
              "      <td>-0.021391</td>\n",
              "      <td>-491.601016</td>\n",
              "      <td>27839.818609</td>\n",
              "      <td>-28331.419624</td>\n",
              "      <td>22982.0</td>\n",
              "    </tr>\n",
              "  </tbody>\n",
              "</table>\n",
              "</div>"
            ],
            "text/plain": [
              "         avg_pl_per_amount    total_pl  total_win_pl  total_lose_pl  \\\n",
              "metrics          -0.021391 -491.601016  27839.818609  -28331.419624   \n",
              "\n",
              "         cnt_amount  \n",
              "metrics     22982.0  "
            ]
          },
          "metadata": {
            "tags": []
          },
          "execution_count": 23
        }
      ]
    },
    {
      "metadata": {
        "id": "UzrrQeEN6xrC",
        "colab_type": "code",
        "outputId": "ecc668f4-84c5-416b-93cc-4ba0ce03bf4e",
        "colab": {
          "base_uri": "https://localhost:8080/",
          "height": 97
        }
      },
      "cell_type": "code",
      "source": [
        "from backlight import metrics\n",
        "m = metrics.calc_trade_performance(trades, mkt)\n",
        "m"
      ],
      "execution_count": 24,
      "outputs": [
        {
          "output_type": "execute_result",
          "data": {
            "text/html": [
              "<div>\n",
              "<style scoped>\n",
              "    .dataframe tbody tr th:only-of-type {\n",
              "        vertical-align: middle;\n",
              "    }\n",
              "\n",
              "    .dataframe tbody tr th {\n",
              "        vertical-align: top;\n",
              "    }\n",
              "\n",
              "    .dataframe thead th {\n",
              "        text-align: right;\n",
              "    }\n",
              "</style>\n",
              "<table border=\"1\" class=\"dataframe\">\n",
              "  <thead>\n",
              "    <tr style=\"text-align: right;\">\n",
              "      <th></th>\n",
              "      <th>cnt_trade</th>\n",
              "      <th>cnt_win</th>\n",
              "      <th>cnt_lose</th>\n",
              "      <th>win_ratio</th>\n",
              "      <th>lose_ratio</th>\n",
              "      <th>avg_pl_per_amount</th>\n",
              "      <th>total_pl</th>\n",
              "      <th>total_win_pl</th>\n",
              "      <th>total_lose_pl</th>\n",
              "      <th>cnt_amount</th>\n",
              "      <th>avg_win_pl</th>\n",
              "      <th>avg_lose_pl</th>\n",
              "      <th>avg_pl_per_trade</th>\n",
              "    </tr>\n",
              "  </thead>\n",
              "  <tbody>\n",
              "    <tr>\n",
              "      <th>metrics</th>\n",
              "      <td>25921.0</td>\n",
              "      <td>8608.0</td>\n",
              "      <td>8646.0</td>\n",
              "      <td>0.332086</td>\n",
              "      <td>0.333552</td>\n",
              "      <td>-0.021391</td>\n",
              "      <td>-491.601016</td>\n",
              "      <td>27839.818609</td>\n",
              "      <td>-28331.419624</td>\n",
              "      <td>22982.0</td>\n",
              "      <td>3.23418</td>\n",
              "      <td>-3.276824</td>\n",
              "      <td>-0.018965</td>\n",
              "    </tr>\n",
              "  </tbody>\n",
              "</table>\n",
              "</div>"
            ],
            "text/plain": [
              "         cnt_trade  cnt_win  cnt_lose  win_ratio  lose_ratio  \\\n",
              "metrics    25921.0   8608.0    8646.0   0.332086    0.333552   \n",
              "\n",
              "         avg_pl_per_amount    total_pl  total_win_pl  total_lose_pl  \\\n",
              "metrics          -0.021391 -491.601016  27839.818609  -28331.419624   \n",
              "\n",
              "         cnt_amount  avg_win_pl  avg_lose_pl  avg_pl_per_trade  \n",
              "metrics     22982.0     3.23418    -3.276824         -0.018965  "
            ]
          },
          "metadata": {
            "tags": []
          },
          "execution_count": 24
        }
      ]
    },
    {
      "metadata": {
        "id": "CKlxGozxE26_",
        "colab_type": "text"
      },
      "cell_type": "markdown",
      "source": [
        "# Plot positions"
      ]
    },
    {
      "metadata": {
        "id": "1ycCCXstx2EX",
        "colab_type": "code",
        "colab": {
          "base_uri": "https://localhost:8080/",
          "height": 370
        },
        "outputId": "83a434fd-ea36-4d52-dd9c-8dba999921cf"
      },
      "cell_type": "code",
      "source": [
        "from backlight import plot\n",
        "\n",
        "plot.plot_pl(positions)"
      ],
      "execution_count": 25,
      "outputs": [
        {
          "output_type": "display_data",
          "data": {
            "image/png": "[encoded data removed]",
            "text/plain": [
              "<matplotlib.figure.Figure at 0x7f62511faa90>"
            ]
          },
          "metadata": {
            "tags": []
          }
        }
      ]
    },
    {
      "metadata": {
        "id": "3js0913qFWsQ",
        "colab_type": "code",
        "colab": {
          "base_uri": "https://localhost:8080/",
          "height": 370
        },
        "outputId": "248a7085-58a4-4857-df46-1c2f0411da55"
      },
      "cell_type": "code",
      "source": [
        "from backlight import plot\n",
        "\n",
        "plot.plot_cumulative_pl(positions)"
      ],
      "execution_count": 27,
      "outputs": [
        {
          "output_type": "display_data",
          "data": {
            "image/png": "[encoded data removed]",
            "text/plain": [
              "<matplotlib.figure.Figure at 0x7f624fcd9940>"
            ]
          },
          "metadata": {
            "tags": []
          }
        }
      ]
    },
    {
      "metadata": {
        "id": "4RDk3iVsFBVw",
        "colab_type": "code",
        "colab": {}
      },
      "cell_type": "code",
      "source": [
        ""
      ],
      "execution_count": 0,
      "outputs": []
    }
  ]
}
