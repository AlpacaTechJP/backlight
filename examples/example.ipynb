{
 "cells": [
  {
   "cell_type": "code",
   "execution_count": 1,
   "metadata": {},
   "outputs": [],
   "source": [
    "%matplotlib inline\n",
    "%load_ext autoreload\n",
    "%autoreload 2\n",
    "\n",
    "import os\n",
    "import numpy as np\n",
    "import pandas as pd"
   ]
  },
  {
   "cell_type": "code",
   "execution_count": 2,
   "metadata": {},
   "outputs": [],
   "source": [
    "import backlight"
   ]
  },
  {
   "cell_type": "markdown",
   "metadata": {},
   "source": [
    "# Generate example dummy data"
   ]
  },
  {
   "cell_type": "code",
   "execution_count": 3,
   "metadata": {},
   "outputs": [],
   "source": [
    "np.random.seed(0)\n",
    "\n",
    "# market data\n",
    "if not os.path.exists(\"example_market.csv\"):\n",
    "    idx = pd.date_range(\"2018-04-01 00:00:00\", \"2018-06-30 23:59:59\", freq=\"10S\")\n",
    "    ask = np.cumsum(np.random.rand(len(idx)) - 0.5) + 100.0\n",
    "    bid = ask - 0.02\n",
    "    pd.DataFrame(\n",
    "        index=idx,\n",
    "        data=np.array([ask, bid]).T,\n",
    "        columns=[\"ask\", \"bid\"]\n",
    "    ).abs().to_csv(\"example_market.csv\")\n",
    "\n",
    "# signal data\n",
    "if not os.path.exists(\"example_signal.csv\"):\n",
    "    sig = np.random.rand(3, len(idx)).T\n",
    "    n = np.sum(sig, axis=1)\n",
    "    pd.DataFrame(\n",
    "        index=idx,\n",
    "        data=sig / n.reshape(-1, 1),\n",
    "        columns=[\"down\", \"neutral\", \"up\"]\n",
    "    ).to_csv(\"example_signal.csv\")"
   ]
  },
  {
   "cell_type": "markdown",
   "metadata": {},
   "source": [
    "# Configuration"
   ]
  },
  {
   "cell_type": "code",
   "execution_count": 4,
   "metadata": {},
   "outputs": [],
   "source": [
    "model_id = \"\"\n",
    "start_dt = \"2018-06-03 00:00:00+0000\"\n",
    "end_dt = \"2018-06-10 00:00:00+0000\"\n",
    "sig_url = \"file:///{}/example_signal.csv\".format(os.getcwd())\n",
    "mkt_url = \"file:///{}/example_market.csv\".format(os.getcwd())"
   ]
  },
  {
   "cell_type": "markdown",
   "metadata": {},
   "source": [
    "# loading the signal"
   ]
  },
  {
   "cell_type": "code",
   "execution_count": 5,
   "metadata": {
    "scrolled": false
   },
   "outputs": [],
   "source": [
    "from backlight import signal\n",
    "\n",
    "SYMBOL = \"USDJPY\"\n",
    "sig = signal.load_signal(SYMBOL, sig_url, start_dt, end_dt)"
   ]
  },
  {
   "cell_type": "code",
   "execution_count": 6,
   "metadata": {},
   "outputs": [
    {
     "data": {
      "text/html": [
       "<div>\n",
       "<style scoped>\n",
       "    .dataframe tbody tr th:only-of-type {\n",
       "        vertical-align: middle;\n",
       "    }\n",
       "\n",
       "    .dataframe tbody tr th {\n",
       "        vertical-align: top;\n",
       "    }\n",
       "\n",
       "    .dataframe thead th {\n",
       "        text-align: right;\n",
       "    }\n",
       "</style>\n",
       "<table border=\"1\" class=\"dataframe\">\n",
       "  <thead>\n",
       "    <tr style=\"text-align: right;\">\n",
       "      <th></th>\n",
       "      <th>down</th>\n",
       "      <th>neutral</th>\n",
       "      <th>up</th>\n",
       "      <th>pred</th>\n",
       "    </tr>\n",
       "  </thead>\n",
       "  <tbody>\n",
       "    <tr>\n",
       "      <th>2018-06-09 23:59:20</th>\n",
       "      <td>0.148715</td>\n",
       "      <td>0.551230</td>\n",
       "      <td>0.300055</td>\n",
       "      <td>0.0</td>\n",
       "    </tr>\n",
       "    <tr>\n",
       "      <th>2018-06-09 23:59:30</th>\n",
       "      <td>0.157524</td>\n",
       "      <td>0.698833</td>\n",
       "      <td>0.143643</td>\n",
       "      <td>0.0</td>\n",
       "    </tr>\n",
       "    <tr>\n",
       "      <th>2018-06-09 23:59:40</th>\n",
       "      <td>0.424951</td>\n",
       "      <td>0.315313</td>\n",
       "      <td>0.259736</td>\n",
       "      <td>-1.0</td>\n",
       "    </tr>\n",
       "    <tr>\n",
       "      <th>2018-06-09 23:59:50</th>\n",
       "      <td>0.353674</td>\n",
       "      <td>0.515737</td>\n",
       "      <td>0.130589</td>\n",
       "      <td>0.0</td>\n",
       "    </tr>\n",
       "    <tr>\n",
       "      <th>2018-06-10 00:00:00</th>\n",
       "      <td>0.408115</td>\n",
       "      <td>0.465368</td>\n",
       "      <td>0.126517</td>\n",
       "      <td>0.0</td>\n",
       "    </tr>\n",
       "  </tbody>\n",
       "</table>\n",
       "</div>"
      ],
      "text/plain": [
       "                         down   neutral        up  pred\n",
       "2018-06-09 23:59:20  0.148715  0.551230  0.300055   0.0\n",
       "2018-06-09 23:59:30  0.157524  0.698833  0.143643   0.0\n",
       "2018-06-09 23:59:40  0.424951  0.315313  0.259736  -1.0\n",
       "2018-06-09 23:59:50  0.353674  0.515737  0.130589   0.0\n",
       "2018-06-10 00:00:00  0.408115  0.465368  0.126517   0.0"
      ]
     },
     "execution_count": 6,
     "metadata": {},
     "output_type": "execute_result"
    }
   ],
   "source": [
    "sig.tail()"
   ]
  },
  {
   "cell_type": "code",
   "execution_count": 7,
   "metadata": {},
   "outputs": [
    {
     "data": {
      "text/plain": [
       "'USDJPY'"
      ]
     },
     "execution_count": 7,
     "metadata": {},
     "output_type": "execute_result"
    }
   ],
   "source": [
    "sig.symbol"
   ]
  },
  {
   "cell_type": "markdown",
   "metadata": {},
   "source": [
    "# loading the marketdata"
   ]
  },
  {
   "cell_type": "code",
   "execution_count": 8,
   "metadata": {},
   "outputs": [],
   "source": [
    "from backlight import datasource\n",
    "\n",
    "mkt = datasource.load_marketdata(\n",
    "    sig.symbol,\n",
    "    sig.start_dt,\n",
    "    sig.end_dt,\n",
    "    mkt_url,\n",
    ")"
   ]
  },
  {
   "cell_type": "code",
   "execution_count": 9,
   "metadata": {},
   "outputs": [
    {
     "data": {
      "text/html": [
       "<div>\n",
       "<style scoped>\n",
       "    .dataframe tbody tr th:only-of-type {\n",
       "        vertical-align: middle;\n",
       "    }\n",
       "\n",
       "    .dataframe tbody tr th {\n",
       "        vertical-align: top;\n",
       "    }\n",
       "\n",
       "    .dataframe thead th {\n",
       "        text-align: right;\n",
       "    }\n",
       "</style>\n",
       "<table border=\"1\" class=\"dataframe\">\n",
       "  <thead>\n",
       "    <tr style=\"text-align: right;\">\n",
       "      <th></th>\n",
       "      <th>ask</th>\n",
       "      <th>bid</th>\n",
       "    </tr>\n",
       "  </thead>\n",
       "  <tbody>\n",
       "    <tr>\n",
       "      <th>2018-06-09 23:59:20</th>\n",
       "      <td>39.916218</td>\n",
       "      <td>39.896218</td>\n",
       "    </tr>\n",
       "    <tr>\n",
       "      <th>2018-06-09 23:59:30</th>\n",
       "      <td>39.750804</td>\n",
       "      <td>39.730804</td>\n",
       "    </tr>\n",
       "    <tr>\n",
       "      <th>2018-06-09 23:59:40</th>\n",
       "      <td>39.932591</td>\n",
       "      <td>39.912591</td>\n",
       "    </tr>\n",
       "    <tr>\n",
       "      <th>2018-06-09 23:59:50</th>\n",
       "      <td>39.433785</td>\n",
       "      <td>39.413785</td>\n",
       "    </tr>\n",
       "    <tr>\n",
       "      <th>2018-06-10 00:00:00</th>\n",
       "      <td>39.471854</td>\n",
       "      <td>39.451854</td>\n",
       "    </tr>\n",
       "  </tbody>\n",
       "</table>\n",
       "</div>"
      ],
      "text/plain": [
       "                           ask        bid\n",
       "2018-06-09 23:59:20  39.916218  39.896218\n",
       "2018-06-09 23:59:30  39.750804  39.730804\n",
       "2018-06-09 23:59:40  39.932591  39.912591\n",
       "2018-06-09 23:59:50  39.433785  39.413785\n",
       "2018-06-10 00:00:00  39.471854  39.451854"
      ]
     },
     "execution_count": 9,
     "metadata": {},
     "output_type": "execute_result"
    }
   ],
   "source": [
    "mkt.tail()"
   ]
  },
  {
   "cell_type": "markdown",
   "metadata": {},
   "source": [
    "# generating labels"
   ]
  },
  {
   "cell_type": "markdown",
   "metadata": {},
   "source": [
    "## Fixed Neutral"
   ]
  },
  {
   "cell_type": "code",
   "execution_count": 10,
   "metadata": {},
   "outputs": [],
   "source": [
    "from backlight import labelizer\n",
    "from backlight.labelizer.ternary.fixed_neutral import FixedNeutralLabelizer\n",
    "\n",
    "\n",
    "lbl_fix = labelizer.generate_labels(\n",
    "    mkt,\n",
    "    FixedNeutralLabelizer(\n",
    "        lookahead=\"3Min\",\n",
    "        neutral_atol=0.075,\n",
    "        neutral_rtol=0.00,\n",
    "    ))"
   ]
  },
  {
   "cell_type": "code",
   "execution_count": 11,
   "metadata": {},
   "outputs": [
    {
     "data": {
      "text/html": [
       "<div>\n",
       "<style scoped>\n",
       "    .dataframe tbody tr th:only-of-type {\n",
       "        vertical-align: middle;\n",
       "    }\n",
       "\n",
       "    .dataframe tbody tr th {\n",
       "        vertical-align: top;\n",
       "    }\n",
       "\n",
       "    .dataframe thead th {\n",
       "        text-align: right;\n",
       "    }\n",
       "</style>\n",
       "<table border=\"1\" class=\"dataframe\">\n",
       "  <thead>\n",
       "    <tr style=\"text-align: right;\">\n",
       "      <th></th>\n",
       "      <th>mid</th>\n",
       "      <th>label_diff</th>\n",
       "      <th>label</th>\n",
       "    </tr>\n",
       "  </thead>\n",
       "  <tbody>\n",
       "    <tr>\n",
       "      <th>2018-06-03 00:00:00</th>\n",
       "      <td>80.257283</td>\n",
       "      <td>-0.854094</td>\n",
       "      <td>-1.0</td>\n",
       "    </tr>\n",
       "    <tr>\n",
       "      <th>2018-06-03 00:00:10</th>\n",
       "      <td>80.010294</td>\n",
       "      <td>-0.446213</td>\n",
       "      <td>-1.0</td>\n",
       "    </tr>\n",
       "    <tr>\n",
       "      <th>2018-06-03 00:00:20</th>\n",
       "      <td>79.701448</td>\n",
       "      <td>0.156435</td>\n",
       "      <td>1.0</td>\n",
       "    </tr>\n",
       "    <tr>\n",
       "      <th>2018-06-03 00:00:30</th>\n",
       "      <td>79.822766</td>\n",
       "      <td>-0.402531</td>\n",
       "      <td>-1.0</td>\n",
       "    </tr>\n",
       "    <tr>\n",
       "      <th>2018-06-03 00:00:40</th>\n",
       "      <td>79.959499</td>\n",
       "      <td>-0.609441</td>\n",
       "      <td>-1.0</td>\n",
       "    </tr>\n",
       "  </tbody>\n",
       "</table>\n",
       "</div>"
      ],
      "text/plain": [
       "                           mid  label_diff  label\n",
       "2018-06-03 00:00:00  80.257283   -0.854094   -1.0\n",
       "2018-06-03 00:00:10  80.010294   -0.446213   -1.0\n",
       "2018-06-03 00:00:20  79.701448    0.156435    1.0\n",
       "2018-06-03 00:00:30  79.822766   -0.402531   -1.0\n",
       "2018-06-03 00:00:40  79.959499   -0.609441   -1.0"
      ]
     },
     "execution_count": 11,
     "metadata": {},
     "output_type": "execute_result"
    }
   ],
   "source": [
    "lbl_fix.head()"
   ]
  },
  {
   "cell_type": "code",
   "execution_count": 12,
   "metadata": {},
   "outputs": [
    {
     "data": {
      "text/plain": [
       "'ternary'"
      ]
     },
     "execution_count": 12,
     "metadata": {},
     "output_type": "execute_result"
    }
   ],
   "source": [
    "lbl_fix.label_type"
   ]
  },
  {
   "cell_type": "code",
   "execution_count": 13,
   "metadata": {},
   "outputs": [
    {
     "data": {
      "text/plain": [
       "label\n",
       "-1.0    0.479952\n",
       " 0.0    0.047751\n",
       " 1.0    0.471999\n",
       "Name: label, dtype: float64"
      ]
     },
     "execution_count": 13,
     "metadata": {},
     "output_type": "execute_result"
    }
   ],
   "source": [
    "# (-1.0, 0.0, 1.0) : (Down, Neutral, Up)\n",
    "lbl_fix.groupby(\"label\").label.count() / len(lbl_fix)"
   ]
  },
  {
   "cell_type": "markdown",
   "metadata": {},
   "source": [
    "## Dynamic Neutral"
   ]
  },
  {
   "cell_type": "code",
   "execution_count": 14,
   "metadata": {},
   "outputs": [],
   "source": [
    "from backlight.labelizer.ternary.dynamic_neutral import DynamicNeutralLabelizer\n",
    "\n",
    "lbl_dyn = labelizer.generate_labels(\n",
    "    mkt,\n",
    "    DynamicNeutralLabelizer(\n",
    "        lookahead=\"3Min\",\n",
    "        neutral_ratio=0.38,\n",
    "        neutral_window=\"1H\",\n",
    "        neutral_hard_limit=0.0,\n",
    "    ))"
   ]
  },
  {
   "cell_type": "code",
   "execution_count": 15,
   "metadata": {},
   "outputs": [
    {
     "data": {
      "text/html": [
       "<div>\n",
       "<style scoped>\n",
       "    .dataframe tbody tr th:only-of-type {\n",
       "        vertical-align: middle;\n",
       "    }\n",
       "\n",
       "    .dataframe tbody tr th {\n",
       "        vertical-align: top;\n",
       "    }\n",
       "\n",
       "    .dataframe thead th {\n",
       "        text-align: right;\n",
       "    }\n",
       "</style>\n",
       "<table border=\"1\" class=\"dataframe\">\n",
       "  <thead>\n",
       "    <tr style=\"text-align: right;\">\n",
       "      <th></th>\n",
       "      <th>label_diff</th>\n",
       "      <th>label</th>\n",
       "      <th>neutral_range</th>\n",
       "    </tr>\n",
       "  </thead>\n",
       "  <tbody>\n",
       "    <tr>\n",
       "      <th>2018-06-03 00:00:00</th>\n",
       "      <td>-0.854094</td>\n",
       "      <td>-1.0</td>\n",
       "      <td>0.854094</td>\n",
       "    </tr>\n",
       "    <tr>\n",
       "      <th>2018-06-03 00:00:10</th>\n",
       "      <td>-0.446213</td>\n",
       "      <td>0.0</td>\n",
       "      <td>0.601208</td>\n",
       "    </tr>\n",
       "    <tr>\n",
       "      <th>2018-06-03 00:00:20</th>\n",
       "      <td>0.156435</td>\n",
       "      <td>0.0</td>\n",
       "      <td>0.376667</td>\n",
       "    </tr>\n",
       "    <tr>\n",
       "      <th>2018-06-03 00:00:30</th>\n",
       "      <td>-0.402531</td>\n",
       "      <td>0.0</td>\n",
       "      <td>0.408647</td>\n",
       "    </tr>\n",
       "    <tr>\n",
       "      <th>2018-06-03 00:00:40</th>\n",
       "      <td>-0.609441</td>\n",
       "      <td>-1.0</td>\n",
       "      <td>0.425246</td>\n",
       "    </tr>\n",
       "  </tbody>\n",
       "</table>\n",
       "</div>"
      ],
      "text/plain": [
       "                     label_diff  label  neutral_range\n",
       "2018-06-03 00:00:00   -0.854094   -1.0       0.854094\n",
       "2018-06-03 00:00:10   -0.446213    0.0       0.601208\n",
       "2018-06-03 00:00:20    0.156435    0.0       0.376667\n",
       "2018-06-03 00:00:30   -0.402531    0.0       0.408647\n",
       "2018-06-03 00:00:40   -0.609441   -1.0       0.425246"
      ]
     },
     "execution_count": 15,
     "metadata": {},
     "output_type": "execute_result"
    }
   ],
   "source": [
    "lbl_dyn.head()"
   ]
  },
  {
   "cell_type": "code",
   "execution_count": 16,
   "metadata": {},
   "outputs": [
    {
     "data": {
      "text/plain": [
       "'ternary'"
      ]
     },
     "execution_count": 16,
     "metadata": {},
     "output_type": "execute_result"
    }
   ],
   "source": [
    "lbl_dyn.label_type"
   ]
  },
  {
   "cell_type": "code",
   "execution_count": 17,
   "metadata": {},
   "outputs": [
    {
     "data": {
      "text/plain": [
       "label\n",
       "-1.0    0.310511\n",
       " 0.0    0.382798\n",
       " 1.0    0.306394\n",
       "Name: label, dtype: float64"
      ]
     },
     "execution_count": 17,
     "metadata": {},
     "output_type": "execute_result"
    }
   ],
   "source": [
    "# (-1.0, 0.0, 1.0) : (Down, Neutral, Up)\n",
    "lbl_dyn.groupby(\"label\").label.count() / len(lbl_dyn)"
   ]
  },
  {
   "cell_type": "markdown",
   "metadata": {},
   "source": [
    "# simulate trading strategy"
   ]
  },
  {
   "cell_type": "code",
   "execution_count": 18,
   "metadata": {
    "scrolled": true
   },
   "outputs": [],
   "source": [
    "from backlight import strategies\n",
    "trades = strategies.simple_buy_sell(mkt, sig, target_column_name=\"???\")"
   ]
  },
  {
   "cell_type": "code",
   "execution_count": 19,
   "metadata": {},
   "outputs": [
    {
     "data": {
      "text/html": [
       "<div>\n",
       "<style scoped>\n",
       "    .dataframe tbody tr th:only-of-type {\n",
       "        vertical-align: middle;\n",
       "    }\n",
       "\n",
       "    .dataframe tbody tr th {\n",
       "        vertical-align: top;\n",
       "    }\n",
       "\n",
       "    .dataframe thead th {\n",
       "        text-align: right;\n",
       "    }\n",
       "</style>\n",
       "<table border=\"1\" class=\"dataframe\">\n",
       "  <thead>\n",
       "    <tr style=\"text-align: right;\">\n",
       "      <th></th>\n",
       "      <th>amount</th>\n",
       "      <th>ask</th>\n",
       "      <th>bid</th>\n",
       "    </tr>\n",
       "  </thead>\n",
       "  <tbody>\n",
       "    <tr>\n",
       "      <th>2018-06-03 00:00:00</th>\n",
       "      <td>0.0</td>\n",
       "      <td>80.267283</td>\n",
       "      <td>80.247283</td>\n",
       "    </tr>\n",
       "    <tr>\n",
       "      <th>2018-06-03 00:00:10</th>\n",
       "      <td>0.0</td>\n",
       "      <td>80.020294</td>\n",
       "      <td>80.000294</td>\n",
       "    </tr>\n",
       "    <tr>\n",
       "      <th>2018-06-03 00:00:20</th>\n",
       "      <td>1.0</td>\n",
       "      <td>79.711448</td>\n",
       "      <td>79.691448</td>\n",
       "    </tr>\n",
       "    <tr>\n",
       "      <th>2018-06-03 00:00:30</th>\n",
       "      <td>0.0</td>\n",
       "      <td>79.832766</td>\n",
       "      <td>79.812766</td>\n",
       "    </tr>\n",
       "    <tr>\n",
       "      <th>2018-06-03 00:00:40</th>\n",
       "      <td>1.0</td>\n",
       "      <td>79.969499</td>\n",
       "      <td>79.949499</td>\n",
       "    </tr>\n",
       "  </tbody>\n",
       "</table>\n",
       "</div>"
      ],
      "text/plain": [
       "                     amount        ask        bid\n",
       "2018-06-03 00:00:00     0.0  80.267283  80.247283\n",
       "2018-06-03 00:00:10     0.0  80.020294  80.000294\n",
       "2018-06-03 00:00:20     1.0  79.711448  79.691448\n",
       "2018-06-03 00:00:30     0.0  79.832766  79.812766\n",
       "2018-06-03 00:00:40     1.0  79.969499  79.949499"
      ]
     },
     "execution_count": 19,
     "metadata": {},
     "output_type": "execute_result"
    }
   ],
   "source": [
    "trades.head()"
   ]
  },
  {
   "cell_type": "markdown",
   "metadata": {},
   "source": [
    "# simulate and evaluate positions"
   ]
  },
  {
   "cell_type": "code",
   "execution_count": 20,
   "metadata": {},
   "outputs": [],
   "source": [
    "from backlight import positions\n",
    "positions = positions.calc_positions(trades, mkt)"
   ]
  },
  {
   "cell_type": "code",
   "execution_count": 21,
   "metadata": {
    "scrolled": true
   },
   "outputs": [
    {
     "data": {
      "text/html": [
       "<div>\n",
       "<style scoped>\n",
       "    .dataframe tbody tr th:only-of-type {\n",
       "        vertical-align: middle;\n",
       "    }\n",
       "\n",
       "    .dataframe tbody tr th {\n",
       "        vertical-align: top;\n",
       "    }\n",
       "\n",
       "    .dataframe thead th {\n",
       "        text-align: right;\n",
       "    }\n",
       "</style>\n",
       "<table border=\"1\" class=\"dataframe\">\n",
       "  <thead>\n",
       "    <tr style=\"text-align: right;\">\n",
       "      <th></th>\n",
       "      <th>ask</th>\n",
       "      <th>bid</th>\n",
       "      <th>amount</th>\n",
       "      <th>price</th>\n",
       "    </tr>\n",
       "  </thead>\n",
       "  <tbody>\n",
       "    <tr>\n",
       "      <th>2018-06-03 00:00:00</th>\n",
       "      <td>80.267283</td>\n",
       "      <td>80.247283</td>\n",
       "      <td>0.0</td>\n",
       "      <td>80.257283</td>\n",
       "    </tr>\n",
       "    <tr>\n",
       "      <th>2018-06-03 00:00:10</th>\n",
       "      <td>80.020294</td>\n",
       "      <td>80.000294</td>\n",
       "      <td>0.0</td>\n",
       "      <td>80.010294</td>\n",
       "    </tr>\n",
       "    <tr>\n",
       "      <th>2018-06-03 00:00:20</th>\n",
       "      <td>79.711448</td>\n",
       "      <td>79.691448</td>\n",
       "      <td>1.0</td>\n",
       "      <td>79.701448</td>\n",
       "    </tr>\n",
       "    <tr>\n",
       "      <th>2018-06-03 00:00:30</th>\n",
       "      <td>79.832766</td>\n",
       "      <td>79.812766</td>\n",
       "      <td>1.0</td>\n",
       "      <td>79.822766</td>\n",
       "    </tr>\n",
       "    <tr>\n",
       "      <th>2018-06-03 00:00:40</th>\n",
       "      <td>79.969499</td>\n",
       "      <td>79.949499</td>\n",
       "      <td>2.0</td>\n",
       "      <td>79.959499</td>\n",
       "    </tr>\n",
       "  </tbody>\n",
       "</table>\n",
       "</div>"
      ],
      "text/plain": [
       "                           ask        bid  amount      price\n",
       "2018-06-03 00:00:00  80.267283  80.247283     0.0  80.257283\n",
       "2018-06-03 00:00:10  80.020294  80.000294     0.0  80.010294\n",
       "2018-06-03 00:00:20  79.711448  79.691448     1.0  79.701448\n",
       "2018-06-03 00:00:30  79.832766  79.812766     1.0  79.822766\n",
       "2018-06-03 00:00:40  79.969499  79.949499     2.0  79.959499"
      ]
     },
     "execution_count": 21,
     "metadata": {},
     "output_type": "execute_result"
    }
   ],
   "source": [
    "positions.head()"
   ]
  },
  {
   "cell_type": "markdown",
   "metadata": {},
   "source": [
    "# Calculate Metrics - based on the raw signals"
   ]
  },
  {
   "cell_type": "code",
   "execution_count": 22,
   "metadata": {},
   "outputs": [
    {
     "name": "stderr",
     "output_type": "stream",
     "text": [
      "/Users/exilis/work/backlight/src/backlight/metrics/ternary.py:31: UserWarning: Boolean Series key will be reindexed to match DataFrame index.\n",
      "  avg_pl = lbl[sig.pred != TD.N.value].label_diff.mean()\n",
      "/Users/exilis/work/backlight/src/backlight/metrics/ternary.py:32: UserWarning: Boolean Series key will be reindexed to match DataFrame index.\n",
      "  total_pl = lbl[sig.pred != TD.N.value].label_diff.sum()\n"
     ]
    },
    {
     "data": {
      "text/html": [
       "<div>\n",
       "<style scoped>\n",
       "    .dataframe tbody tr th:only-of-type {\n",
       "        vertical-align: middle;\n",
       "    }\n",
       "\n",
       "    .dataframe tbody tr th {\n",
       "        vertical-align: top;\n",
       "    }\n",
       "\n",
       "    .dataframe thead th {\n",
       "        text-align: right;\n",
       "    }\n",
       "</style>\n",
       "<table border=\"1\" class=\"dataframe\">\n",
       "  <thead>\n",
       "    <tr style=\"text-align: right;\">\n",
       "      <th></th>\n",
       "      <th>cnt_uu</th>\n",
       "      <th>cnt_un</th>\n",
       "      <th>cnt_ud</th>\n",
       "      <th>cnt_nu</th>\n",
       "      <th>cnt_nn</th>\n",
       "      <th>cnt_nd</th>\n",
       "      <th>cnt_du</th>\n",
       "      <th>cnt_dn</th>\n",
       "      <th>cnt_dd</th>\n",
       "      <th>cnt_total</th>\n",
       "      <th>hit_ratio</th>\n",
       "      <th>hedge_ratio</th>\n",
       "      <th>neutral_ratio</th>\n",
       "      <th>coverage</th>\n",
       "      <th>avg_pl</th>\n",
       "      <th>total_pl</th>\n",
       "    </tr>\n",
       "  </thead>\n",
       "  <tbody>\n",
       "    <tr>\n",
       "      <th>metrics</th>\n",
       "      <td>9489.0</td>\n",
       "      <td>962.0</td>\n",
       "      <td>9676.0</td>\n",
       "      <td>9489.0</td>\n",
       "      <td>962.0</td>\n",
       "      <td>9676.0</td>\n",
       "      <td>9489.0</td>\n",
       "      <td>962.0</td>\n",
       "      <td>9676.0</td>\n",
       "      <td>60481.0</td>\n",
       "      <td>0.476102</td>\n",
       "      <td>0.523898</td>\n",
       "      <td>0.332782</td>\n",
       "      <td>0.665564</td>\n",
       "      <td>-0.01043</td>\n",
       "      <td>-420.125229</td>\n",
       "    </tr>\n",
       "  </tbody>\n",
       "</table>\n",
       "</div>"
      ],
      "text/plain": [
       "         cnt_uu  cnt_un  cnt_ud  cnt_nu  cnt_nn  cnt_nd  cnt_du  cnt_dn  \\\n",
       "metrics  9489.0   962.0  9676.0  9489.0   962.0  9676.0  9489.0   962.0   \n",
       "\n",
       "         cnt_dd  cnt_total  hit_ratio  hedge_ratio  neutral_ratio  coverage  \\\n",
       "metrics  9676.0    60481.0   0.476102     0.523898       0.332782  0.665564   \n",
       "\n",
       "          avg_pl    total_pl  \n",
       "metrics -0.01043 -420.125229  "
      ]
     },
     "execution_count": 22,
     "metadata": {},
     "output_type": "execute_result"
    }
   ],
   "source": [
    "from backlight import metrics\n",
    "m = metrics.calc_metrics(sig, lbl_fix)\n",
    "m"
   ]
  },
  {
   "cell_type": "code",
   "execution_count": 23,
   "metadata": {},
   "outputs": [
    {
     "data": {
      "text/html": [
       "<div>\n",
       "<style scoped>\n",
       "    .dataframe tbody tr th:only-of-type {\n",
       "        vertical-align: middle;\n",
       "    }\n",
       "\n",
       "    .dataframe tbody tr th {\n",
       "        vertical-align: top;\n",
       "    }\n",
       "\n",
       "    .dataframe thead th {\n",
       "        text-align: right;\n",
       "    }\n",
       "</style>\n",
       "<table border=\"1\" class=\"dataframe\">\n",
       "  <thead>\n",
       "    <tr style=\"text-align: right;\">\n",
       "      <th></th>\n",
       "      <th>cnt_uu</th>\n",
       "      <th>cnt_un</th>\n",
       "      <th>cnt_ud</th>\n",
       "      <th>cnt_nu</th>\n",
       "      <th>cnt_nn</th>\n",
       "      <th>cnt_nd</th>\n",
       "      <th>cnt_du</th>\n",
       "      <th>cnt_dn</th>\n",
       "      <th>cnt_dd</th>\n",
       "      <th>cnt_total</th>\n",
       "      <th>hit_ratio</th>\n",
       "      <th>hedge_ratio</th>\n",
       "      <th>neutral_ratio</th>\n",
       "      <th>coverage</th>\n",
       "      <th>avg_pl</th>\n",
       "      <th>total_pl</th>\n",
       "    </tr>\n",
       "  </thead>\n",
       "  <tbody>\n",
       "    <tr>\n",
       "      <th>metrics</th>\n",
       "      <td>6139.0</td>\n",
       "      <td>7655.0</td>\n",
       "      <td>6277.0</td>\n",
       "      <td>6139.0</td>\n",
       "      <td>7655.0</td>\n",
       "      <td>6277.0</td>\n",
       "      <td>6139.0</td>\n",
       "      <td>7655.0</td>\n",
       "      <td>6277.0</td>\n",
       "      <td>60481.0</td>\n",
       "      <td>0.309302</td>\n",
       "      <td>0.690698</td>\n",
       "      <td>0.331856</td>\n",
       "      <td>0.663713</td>\n",
       "      <td>-0.01043</td>\n",
       "      <td>-420.125229</td>\n",
       "    </tr>\n",
       "  </tbody>\n",
       "</table>\n",
       "</div>"
      ],
      "text/plain": [
       "         cnt_uu  cnt_un  cnt_ud  cnt_nu  cnt_nn  cnt_nd  cnt_du  cnt_dn  \\\n",
       "metrics  6139.0  7655.0  6277.0  6139.0  7655.0  6277.0  6139.0  7655.0   \n",
       "\n",
       "         cnt_dd  cnt_total  hit_ratio  hedge_ratio  neutral_ratio  coverage  \\\n",
       "metrics  6277.0    60481.0   0.309302     0.690698       0.331856  0.663713   \n",
       "\n",
       "          avg_pl    total_pl  \n",
       "metrics -0.01043 -420.125229  "
      ]
     },
     "execution_count": 23,
     "metadata": {},
     "output_type": "execute_result"
    }
   ],
   "source": [
    "from backlight import metrics\n",
    "m = metrics.calc_metrics(sig, lbl_dyn)\n",
    "m"
   ]
  },
  {
   "cell_type": "code",
   "execution_count": null,
   "metadata": {},
   "outputs": [],
   "source": []
  }
 ],
 "metadata": {
  "kernelspec": {
   "display_name": "Python 3",
   "language": "python",
   "name": "python3"
  },
  "language_info": {
   "codemirror_mode": {
    "name": "ipython",
    "version": 3
   },
   "file_extension": ".py",
   "mimetype": "text/x-python",
   "name": "python",
   "nbconvert_exporter": "python",
   "pygments_lexer": "ipython3",
   "version": "3.5.5"
  }
 },
 "nbformat": 4,
 "nbformat_minor": 2
}
